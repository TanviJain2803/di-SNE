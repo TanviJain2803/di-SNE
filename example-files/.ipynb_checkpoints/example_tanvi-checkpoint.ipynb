{
 "cells": [
  {
   "cell_type": "markdown",
   "id": "a653914b",
   "metadata": {},
   "source": [
    "This notebook runs a small test of the di-SNE implementation, visualizing a subset of the [Iris Dataset example](https://scikit-learn.org/stable/auto_examples/datasets/plot_iris_dataset.html#sphx-glr-auto-examples-datasets-plot-iris-dataset-py), which can be found at the scikit-learn website. The example dataset is included in this folder as `test_dataset.txt`."
   ]
  },
  {
   "cell_type": "markdown",
   "id": "7886f925",
   "metadata": {},
   "source": [
    "```\n",
    "# install packages\n",
    "pip install --user scanpy leidenalg\n",
    "```"
   ]
  },
  {
   "cell_type": "code",
   "execution_count": 1,
   "id": "5c1446f6",
   "metadata": {},
   "outputs": [],
   "source": [
    "# set up packages to cluster data\n",
    "import sys\n",
    "import os\n",
    "sys.path.append(os.environ[\"HOME\"]+\"/.local/lib/python3.9/site-packages\")"
   ]
  },
  {
   "cell_type": "code",
   "execution_count": 2,
   "id": "9a9f42e9",
   "metadata": {},
   "outputs": [],
   "source": [
    "import scanpy as sc, anndata as ad\n",
    "import leidenalg\n",
    "import numpy as np\n",
    "import pandas as pd\n",
    "from sklearn.datasets import make_blobs"
   ]
  },
  {
   "cell_type": "code",
   "execution_count": 3,
   "id": "2d4543dc",
   "metadata": {},
   "outputs": [],
   "source": [
    "# diSNE packages \n",
    "import matplotlib.pyplot as plt\n",
    "import seaborn as sns\n",
    "import numpy as np\n",
    "from scipy.spatial.distance import pdist, squareform"
   ]
  },
  {
   "cell_type": "code",
   "execution_count": 54,
   "id": "f85b3607",
   "metadata": {},
   "outputs": [
    {
     "name": "stdout",
     "output_type": "stream",
     "text": [
      "-----\n",
      "anndata     0.9.1\n",
      "scanpy      1.9.3\n",
      "-----\n",
      "PIL                 8.3.1\n",
      "anyio               NA\n",
      "attr                21.2.0\n",
      "babel               2.9.1\n",
      "backcall            0.2.0\n",
      "beta_ufunc          NA\n",
      "binom_ufunc         NA\n",
      "bottleneck          1.3.2\n",
      "brotli              NA\n",
      "certifi             2022.12.07\n",
      "cffi                1.14.6\n",
      "chardet             4.0.0\n",
      "charset_normalizer  2.0.0\n",
      "cloudpickle         1.6.0\n",
      "colorama            0.4.6\n",
      "cycler              0.10.0\n",
      "cython_runtime      NA\n",
      "cytoolz             0.11.0\n",
      "dask                2021.06.2\n",
      "dateutil            2.8.2\n",
      "debugpy             1.6.7\n",
      "decorator           5.0.9\n",
      "defusedxml          0.7.1\n",
      "entrypoints         0.3\n",
      "fastjsonschema      NA\n",
      "fsspec              2021.07.0\n",
      "google              NA\n",
      "h5py                3.3.0\n",
      "idna                3.1\n",
      "igraph              0.11.5\n",
      "ipykernel           6.17.1\n",
      "ipython_genutils    0.2.0\n",
      "ipywidgets          7.6.3\n",
      "jedi                0.18.0\n",
      "jinja2              3.0.1\n",
      "joblib              1.0.1\n",
      "json5               NA\n",
      "jsonschema          3.2.0\n",
      "jupyter_server      1.23.6\n",
      "jupyterlab_server   2.6.1\n",
      "kiwisolver          1.3.1\n",
      "leidenalg           0.10.2\n",
      "llvmlite            0.36.0\n",
      "markupsafe          2.0.1\n",
      "matplotlib          3.4.2\n",
      "matplotlib_inline   NA\n",
      "mpl_toolkits        NA\n",
      "natsort             8.3.1\n",
      "nbclassic           NA\n",
      "nbformat            5.8.0\n",
      "nbinom_ufunc        NA\n",
      "numba               0.53.1\n",
      "numexpr             2.7.3\n",
      "numpy               1.21.1\n",
      "packaging           21.0\n",
      "pandas              1.5.3\n",
      "parso               0.8.2\n",
      "pexpect             4.8.0\n",
      "pickleshare         0.7.5\n",
      "pkg_resources       NA\n",
      "plotly              5.14.1\n",
      "prometheus_client   NA\n",
      "prompt_toolkit      3.0.19\n",
      "psutil              5.8.0\n",
      "ptyprocess          0.7.0\n",
      "pvectorc            NA\n",
      "pycparser           2.20\n",
      "pydev_ipython       NA\n",
      "pydevconsole        NA\n",
      "pydevd              2.9.5\n",
      "pydevd_file_utils   NA\n",
      "pydevd_plugins      NA\n",
      "pydevd_tracing      NA\n",
      "pyexpat             NA\n",
      "pygments            2.9.0\n",
      "pynndescent         0.5.10\n",
      "pyparsing           2.4.7\n",
      "pyrsistent          NA\n",
      "pytz                2021.1\n",
      "requests            2.26.0\n",
      "rfc3339_validator   0.1.4\n",
      "rfc3986_validator   0.1.1\n",
      "ruamel              NA\n",
      "scipy               1.7.0\n",
      "seaborn             0.11.1\n",
      "send2trash          NA\n",
      "session_info        1.0.0\n",
      "simplejson          3.19.2\n",
      "six                 1.16.0\n",
      "sklearn             0.24.2\n",
      "sniffio             1.2.0\n",
      "socks               1.7.1\n",
      "statsmodels         0.12.2\n",
      "storemagic          NA\n",
      "tblib               1.7.0\n",
      "terminado           0.10.1\n",
      "texttable           1.7.0\n",
      "tlz                 0.11.0\n",
      "toolz               0.11.1\n",
      "tornado             6.2\n",
      "tqdm                4.61.2\n",
      "traitlets           5.1.1\n",
      "typing_extensions   NA\n",
      "umap                0.5.3\n",
      "urllib3             1.26.6\n",
      "wcwidth             0.2.5\n",
      "websocket           0.57.0\n",
      "yaml                5.4.1\n",
      "zmq                 25.0.2\n",
      "-----\n",
      "IPython             7.25.0\n",
      "jupyter_client      7.4.9\n",
      "jupyter_core        4.12.0\n",
      "jupyterlab          3.0.16\n",
      "notebook            6.4.0\n",
      "-----\n",
      "Python 3.9.5 | packaged by conda-forge | (default, Jun 19 2021, 00:32:32) [GCC 9.3.0]\n",
      "Linux-3.10.0-1160.114.2.el7.x86_64-x86_64-with-glibc2.31\n",
      "-----\n",
      "Session information updated at 2024-05-20 20:10\n"
     ]
    }
   ],
   "source": [
    "# check imports\n",
    "sc.logging.print_versions()"
   ]
  },
  {
   "cell_type": "code",
   "execution_count": 5,
   "id": "4af15bde",
   "metadata": {},
   "outputs": [],
   "source": [
    "# read in example dataset as AnnData object\n",
    "dataset = ad.read_csv('test_dataset.txt', delimiter='\\t')"
   ]
  },
  {
   "cell_type": "code",
   "execution_count": 4,
   "id": "10d877a0",
   "metadata": {},
   "outputs": [],
   "source": [
    "# Generate synthetic data\n",
    "n_samples = 300\n",
    "n_features = 10\n",
    "n_clusters = 3\n",
    "\n",
    "X, y = make_blobs(n_samples=n_samples, n_features=n_features, centers=n_clusters, random_state=42)"
   ]
  },
  {
   "cell_type": "code",
   "execution_count": 6,
   "id": "348889d5",
   "metadata": {},
   "outputs": [],
   "source": [
    "import hdf5plugin\n",
    "adata.write_h5ad(\n",
    "    'example_dataset.h5ad',\n",
    "    compression=hdf5plugin.FILTERS[\"zstd\"]\n",
    ")"
   ]
  },
  {
   "cell_type": "code",
   "execution_count": 8,
   "id": "5b76e5bc",
   "metadata": {},
   "outputs": [
    {
     "data": {
      "image/png": "[encoded data removed]",
      "text/plain": [
       "<Figure size 432x288 with 1 Axes>"
      ]
     },
     "metadata": {},
     "output_type": "display_data"
    }
   ],
   "source": [
    "adata_test = ad.read_h5ad('example_dataset.h5ad')\n",
    "# Compute neighborhood graph\n",
    "sc.pp.neighbors(adata_test, n_neighbors=10, use_rep='X')\n",
    "\n",
    "# Run Leiden clustering\n",
    "sc.tl.leiden(adata_test, resolution=1.0)\n",
    "\n",
    "# Run t-SNE\n",
    "sc.tl.tsne(adata_test)\n",
    "# Plot the t-SNE results\n",
    "sc.pl.tsne(adata_test, color='leiden')"
   ]
  },
  {
   "cell_type": "code",
   "execution_count": 5,
   "id": "2a6af061-2882-4054-aad8-0cc5ba4c3fb8",
   "metadata": {},
   "outputs": [
    {
     "name": "stdout",
     "output_type": "stream",
     "text": [
      "Shape of the data: (300, 10)\n",
      "Shape of the labels: (300,)\n"
     ]
    },
    {
     "data": {
      "image/png": "[encoded data removed]",
      "text/plain": [
       "<Figure size 432x288 with 1 Axes>"
      ]
     },
     "metadata": {},
     "output_type": "display_data"
    }
   ],
   "source": [
    "# Display the synthetic data\n",
    "print(\"Shape of the data:\", X.shape)\n",
    "print(\"Shape of the labels:\", y.shape)\n",
    "\n",
    "# Create an AnnData object\n",
    "adata = sc.AnnData(X)\n",
    "adata.obs['labels'] = pd.Categorical(y)\n",
    "\n",
    "# Compute neighborhood graph\n",
    "sc.pp.neighbors(adata, n_neighbors=10, use_rep='X')\n",
    "\n",
    "# Run Leiden clustering\n",
    "sc.tl.leiden(adata, resolution=1.0)\n",
    "\n",
    "# Run t-SNE\n",
    "sc.tl.tsne(adata)\n",
    "# Plot the t-SNE results\n",
    "sc.pl.tsne(adata, color='leiden')\n"
   ]
  },
  {
   "cell_type": "code",
   "execution_count": null,
   "id": "dce1b190",
   "metadata": {},
   "outputs": [],
   "source": []
  },
  {
   "cell_type": "code",
   "execution_count": 56,
   "id": "bd1ae48e-bec9-44a5-8452-88eb93172c56",
   "metadata": {},
   "outputs": [],
   "source": [
    "# TEST: use diSNE to run t-SNE and visualize clusters\n",
    "# Step 1: Compute pairwise distances\n",
    "def pairwise_distances(X):\n",
    "    return squareform(pdist(X, 'euclidean'))\n",
    "\n",
    "# Step 2: Compute joint probabilities P in high-dimensional space\n",
    "def compute_joint_probabilities(distances, perplexity=30.0):\n",
    "    (n, _) = distances.shape\n",
    "    P = np.zeros((n, n))\n",
    "    beta = np.ones((n, 1))\n",
    "    logU = np.log(perplexity)\n",
    "    \n",
    "    for i in range(n):\n",
    "        betamin = -np.inf\n",
    "        betamax = np.inf\n",
    "        Di = distances[i, np.concatenate((np.r_[0:i], np.r_[i+1:n]))]\n",
    "        H, thisP = Hbeta(Di, beta[i])\n",
    "        \n",
    "        Hdiff = H - logU\n",
    "        tries = 0\n",
    "        while np.abs(Hdiff) > 1e-5 and tries < 50:\n",
    "            if Hdiff > 0:\n",
    "                betamin = beta[i].copy()\n",
    "                if betamax == np.inf:\n",
    "                    beta[i] *= 2\n",
    "                else:\n",
    "                    beta[i] = (beta[i] + betamax) / 2\n",
    "            else:\n",
    "                betamax = beta[i].copy()\n",
    "                if betamin == -np.inf:\n",
    "                    beta[i] /= 2\n",
    "                else:\n",
    "                    beta[i] = (beta[i] + betamin) / 2\n",
    "            \n",
    "            H, thisP = Hbeta(Di, beta[i])\n",
    "            Hdiff = H - logU\n",
    "            tries += 1\n",
    "        \n",
    "        P[i, np.concatenate((np.r_[0:i], np.r_[i+1:n]))] = thisP\n",
    "    \n",
    "    P = P + np.transpose(P)\n",
    "    P = P / np.sum(P)\n",
    "    P = np.maximum(P, 1e-12)\n",
    "    return P\n",
    "\n",
    "def Hbeta(D, beta):\n",
    "    P = np.exp(-D * beta)\n",
    "    sumP = np.sum(P)\n",
    "    H = np.log(sumP) + beta * np.sum(D * P) / sumP\n",
    "    P = P / sumP\n",
    "    return H, P\n",
    "\n",
    "# Step 3: Initialize embedding Y\n",
    "def initialize_embedding(n, dim=2):\n",
    "    return np.random.randn(n, dim)\n",
    "\n",
    "# Step 4: Compute low-dimensional affinities Q\n",
    "def compute_low_dim_affinities(Y):\n",
    "    distances = pairwise_distances(Y)\n",
    "    inv_distances = 1 / (1 + distances)\n",
    "    np.fill_diagonal(inv_distances, 0)\n",
    "    inv_distances_sum = np.sum(inv_distances)\n",
    "    Q = inv_distances / (inv_distances_sum + 1e-12)  # Add epsilon to avoid division by zero\n",
    "    Q = np.maximum(Q, 1e-12)\n",
    "    return Q\n",
    "\n",
    "# Step 5: Compute gradients and update embedding\n",
    "def compute_gradients(P, Q, Y):\n",
    "    n, dim = Y.shape\n",
    "    dY = np.zeros((n, dim))\n",
    "    PQ_diff = P - Q\n",
    "    for i in range(n):\n",
    "        dY[i, :] = 4 * np.sum((PQ_diff[:, i].reshape(-1, 1) * (Y[i, :] - Y)), axis=0)\n",
    "    return dY\n",
    "\n",
    "def update_embedding(Y, dY, learning_rate=200.0):\n",
    "    # Normalize the gradients\n",
    "    grad_norm = np.linalg.norm(dY, axis=1, keepdims=True)\n",
    "    dY = dY / (grad_norm + 1e-12)\n",
    "    \n",
    "    # Clip the gradients to prevent excessively large updates\n",
    "    max_step_size = 1.0\n",
    "    dY = np.clip(dY, -max_step_size, max_step_size)\n",
    "    \n",
    "    return Y - learning_rate * dY\n",
    "\n",
    "# Step 6: The main t-SNE function modified to store results in adata.obsm['X_tsne']\n",
    "def tsne(adata, perplexity=30.0, n_iter=1000, learning_rate=10.0):\n",
    "    X = adata.X\n",
    "    distances = pairwise_distances(X)\n",
    "    P = compute_joint_probabilities(distances, perplexity)\n",
    "    Y = initialize_embedding(X.shape[0])\n",
    "    \n",
    "    for iter in range(n_iter):\n",
    "        Q = compute_low_dim_affinities(Y)\n",
    "        dY = compute_gradients(P, Q, Y)\n",
    "        Y = update_embedding(Y, dY, learning_rate)\n",
    "        \n",
    "        if iter % 100 == 0:\n",
    "            cost = np.sum(P * np.log(P / Q))\n",
    "            # Uncomment the next line if you want to see the progress\n",
    "            # print(f\"Iteration {iter}: cost = {cost}\")\n",
    "            pass\n",
    "    \n",
    "    # Store the resulting t-SNE embedding in adata.obsm['X_tsne']\n",
    "    adata.obsm['X_tsne'] = Y"
   ]
  },
  {
   "cell_type": "code",
   "execution_count": 57,
   "id": "b6e6cb25",
   "metadata": {},
   "outputs": [],
   "source": [
    "tsne(adata) #Running tsne"
   ]
  },
  {
   "cell_type": "code",
   "execution_count": 62,
   "id": "d4fd2196",
   "metadata": {},
   "outputs": [],
   "source": [
    "def plot_tsne_results(adata, feature, title='t-SNE results', figsize=(10, 8)):\n",
    "    tsne_out = adata.obsm['X_tsne']\n",
    "    labels = adata.obs[feature].astype(int).values\n",
    "    plt.figure(figsize=figsize)\n",
    "    scatter = plt.scatter(tsne_out[:, 0], tsne_out[:, 1], c=labels, cmap='viridis', marker='o')\n",
    "    if labels is not None:\n",
    "        plt.legend(*scatter.legend_elements(), title=\"Clusters\")\n",
    "    plt.title(title)\n",
    "    plt.xlabel('t-SNE 1')\n",
    "    plt.ylabel('t-SNE 2')\n",
    "    plt.colorbar()\n",
    "    plt.show()"
   ]
  },
  {
   "cell_type": "code",
   "execution_count": 64,
   "id": "e3232151-753f-44a3-a176-dccd3893dadb",
   "metadata": {},
   "outputs": [
    {
     "data": {
      "image/png": "[encoded data removed]",
      "text/plain": [
       "<Figure size 720x576 with 2 Axes>"
      ]
     },
     "metadata": {
      "needs_background": "light"
     },
     "output_type": "display_data"
    }
   ],
   "source": [
    "# Extract t-SNE results and cluster labels\n",
    "tsne_out = adata.obsm['X_tsne']\n",
    "clusters = adata.obs['leiden'].astype(int).values  # Cluster labels\n",
    "\n",
    "# Plot the t-SNE results\n",
    "plot_tsne_results(adata, feature='leiden')"
   ]
  }
 ],
 "metadata": {
  "kernelspec": {
   "display_name": "Python 3 (clean)",
   "language": "python",
   "name": "python3_clean"
  },
  "language_info": {
   "codemirror_mode": {
    "name": "ipython",
    "version": 3
   },
   "file_extension": ".py",
   "mimetype": "text/x-python",
   "name": "python",
   "nbconvert_exporter": "python",
   "pygments_lexer": "ipython3",
   "version": "3.9.5"
  }
 },
 "nbformat": 4,
 "nbformat_minor": 5
}
