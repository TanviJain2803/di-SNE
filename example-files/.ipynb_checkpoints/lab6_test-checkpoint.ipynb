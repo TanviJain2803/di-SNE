{
 "cells": [
  {
   "cell_type": "code",
   "execution_count": 1,
   "id": "f7c66191",
   "metadata": {},
   "outputs": [],
   "source": [
    "# notebook to test on lab 6 data"
   ]
  },
  {
   "cell_type": "markdown",
   "id": "1f5d8709",
   "metadata": {},
   "source": [
    "## Setup and Filtering the Data"
   ]
  },
  {
   "cell_type": "code",
   "execution_count": 23,
   "id": "dd722f72",
   "metadata": {},
   "outputs": [],
   "source": [
    "# import libraries\n",
    "import sys\n",
    "import os\n",
    "sys.path.append(os.environ[\"HOME\"]+\"/.local/lib/python3.9/site-packages\")\n",
    "import scanpy as sc, anndata as ad\n",
    "import harmonypy\n",
    "import leidenalg\n",
    "import numpy as np\n",
    "import pandas as pd\n",
    "# from sklearn.datasets import make_blobs"
   ]
  },
  {
   "cell_type": "code",
   "execution_count": 24,
   "id": "090639dd",
   "metadata": {},
   "outputs": [],
   "source": [
    "# diSNE packages \n",
    "import matplotlib.pyplot as plt\n",
    "import seaborn as sns\n",
    "import numpy as np\n",
    "from scipy.spatial.distance import pdist, squareform"
   ]
  },
  {
   "cell_type": "code",
   "execution_count": 7,
   "id": "6ef50d6e",
   "metadata": {},
   "outputs": [
    {
     "name": "stdout",
     "output_type": "stream",
     "text": [
      "-----\n",
      "anndata     0.9.1\n",
      "scanpy      1.9.3\n",
      "-----\n",
      "PIL                 8.3.1\n",
      "anyio               NA\n",
      "attr                21.2.0\n",
      "babel               2.9.1\n",
      "backcall            0.2.0\n",
      "beta_ufunc          NA\n",
      "binom_ufunc         NA\n",
      "bottleneck          1.3.2\n",
      "brotli              NA\n",
      "certifi             2022.12.07\n",
      "cffi                1.14.6\n",
      "chardet             4.0.0\n",
      "charset_normalizer  2.0.0\n",
      "cloudpickle         1.6.0\n",
      "colorama            0.4.6\n",
      "cycler              0.10.0\n",
      "cython_runtime      NA\n",
      "cytoolz             0.11.0\n",
      "dask                2021.06.2\n",
      "dateutil            2.8.2\n",
      "debugpy             1.6.7\n",
      "decorator           5.0.9\n",
      "defusedxml          0.7.1\n",
      "entrypoints         0.3\n",
      "fastjsonschema      NA\n",
      "fsspec              2021.07.0\n",
      "google              NA\n",
      "h5py                3.3.0\n",
      "harmonypy           NA\n",
      "idna                3.1\n",
      "igraph              0.11.4\n",
      "ipykernel           6.17.1\n",
      "ipython_genutils    0.2.0\n",
      "jedi                0.18.0\n",
      "jinja2              3.0.1\n",
      "joblib              1.0.1\n",
      "json5               NA\n",
      "jsonschema          3.2.0\n",
      "jupyter_server      1.23.6\n",
      "jupyterlab_server   2.6.1\n",
      "kiwisolver          1.3.1\n",
      "leidenalg           0.10.2\n",
      "llvmlite            0.36.0\n",
      "markupsafe          2.0.1\n",
      "matplotlib          3.4.2\n",
      "matplotlib_inline   NA\n",
      "mpl_toolkits        NA\n",
      "natsort             8.3.1\n",
      "nbclassic           NA\n",
      "nbformat            5.8.0\n",
      "nbinom_ufunc        NA\n",
      "numba               0.53.1\n",
      "numexpr             2.7.3\n",
      "numpy               1.21.1\n",
      "packaging           21.0\n",
      "pandas              1.5.3\n",
      "parso               0.8.2\n",
      "pexpect             4.8.0\n",
      "pickleshare         0.7.5\n",
      "pkg_resources       NA\n",
      "plotly              5.14.1\n",
      "prometheus_client   NA\n",
      "prompt_toolkit      3.0.19\n",
      "psutil              5.8.0\n",
      "ptyprocess          0.7.0\n",
      "pvectorc            NA\n",
      "pydev_ipython       NA\n",
      "pydevconsole        NA\n",
      "pydevd              2.9.5\n",
      "pydevd_file_utils   NA\n",
      "pydevd_plugins      NA\n",
      "pydevd_tracing      NA\n",
      "pyexpat             NA\n",
      "pygments            2.9.0\n",
      "pyparsing           2.4.7\n",
      "pyrsistent          NA\n",
      "pytz                2021.1\n",
      "requests            2.26.0\n",
      "rfc3339_validator   0.1.4\n",
      "rfc3986_validator   0.1.1\n",
      "ruamel              NA\n",
      "scipy               1.7.0\n",
      "send2trash          NA\n",
      "session_info        1.0.0\n",
      "simplejson          3.19.2\n",
      "six                 1.16.0\n",
      "sklearn             0.24.2\n",
      "sniffio             1.2.0\n",
      "socks               1.7.1\n",
      "storemagic          NA\n",
      "tblib               1.7.0\n",
      "terminado           0.10.1\n",
      "texttable           1.7.0\n",
      "threadpoolctl       2.2.0\n",
      "tlz                 0.11.0\n",
      "toolz               0.11.1\n",
      "tornado             6.2\n",
      "traitlets           5.1.1\n",
      "typing_extensions   NA\n",
      "urllib3             1.26.6\n",
      "wcwidth             0.2.5\n",
      "websocket           0.57.0\n",
      "yaml                5.4.1\n",
      "zmq                 25.0.2\n",
      "-----\n",
      "IPython             7.25.0\n",
      "jupyter_client      7.4.9\n",
      "jupyter_core        4.12.0\n",
      "jupyterlab          3.0.16\n",
      "notebook            6.4.0\n",
      "-----\n",
      "Python 3.9.5 | packaged by conda-forge | (default, Jun 19 2021, 00:32:32) [GCC 9.3.0]\n",
      "Linux-3.10.0-1160.114.2.el7.x86_64-x86_64-with-glibc2.31\n",
      "-----\n",
      "Session information updated at 2024-05-20 23:40\n"
     ]
    }
   ],
   "source": [
    "# check imports\n",
    "sc.logging.print_versions()"
   ]
  },
  {
   "cell_type": "code",
   "execution_count": 9,
   "id": "a5c1d776",
   "metadata": {},
   "outputs": [
    {
     "name": "stdout",
     "output_type": "stream",
     "text": [
      "GSM5114461_S6_A11\n",
      "GSM5114464_S7_D20\n",
      "GSM5114474_M3_E7\n"
     ]
    },
    {
     "name": "stderr",
     "output_type": "stream",
     "text": [
      "/opt/conda/lib/python3.9/site-packages/anndata/_core/anndata.py:1830: UserWarning: Observation names are not unique. To make them unique, call `.obs_names_make_unique`.\n",
      "  utils.warn_names_duplicates(\"obs\")\n"
     ]
    }
   ],
   "source": [
    "# concatenate all three datasets into single anndata object\n",
    "DATADIR=os.environ[\"HOME\"]+\"/public/lab6\"\n",
    "dsets = [\"GSM5114461_S6_A11\", \"GSM5114464_S7_D20\", \"GSM5114474_M3_E7\"]\n",
    "adatas = {}\n",
    "for ds in dsets:\n",
    "    print(ds)\n",
    "    adatas[ds] = sc.read_10x_mtx(DATADIR, prefix=ds+\"_\", cache=True)\n",
    "combined = ad.concat(adatas, label=\"dataset\")\n",
    "combined.obs_names_make_unique()"
   ]
  },
  {
   "cell_type": "code",
   "execution_count": 10,
   "id": "ca71b8cb",
   "metadata": {},
   "outputs": [
    {
     "data": {
      "text/plain": [
       "AnnData object with n_obs × n_vars = 12357 × 20621\n",
       "    obs: 'dataset'"
      ]
     },
     "execution_count": 10,
     "metadata": {},
     "output_type": "execute_result"
    }
   ],
   "source": [
    "# print out the dimensions of the combined dataset loaded\n",
    "combined"
   ]
  },
  {
   "cell_type": "code",
   "execution_count": 11,
   "id": "31a85b0a",
   "metadata": {},
   "outputs": [],
   "source": [
    "# filtering steps\n",
    "# filter cells that have less than 200 genes expressed\n",
    "sc.pp.filter_cells(combined, min_genes=200)\n",
    "# filter cells with less than 1000 total reads \n",
    "sc.pp.filter_cells(combined, min_counts=1000)\n",
    "# filter genes that are detected in less than 5 cells\n",
    "sc.pp.filter_genes(combined, min_cells=5)\n",
    "# genes that have a total count of less than 15\n",
    "sc.pp.filter_genes(combined, min_counts=15)"
   ]
  },
  {
   "cell_type": "code",
   "execution_count": 12,
   "id": "d016a2ed",
   "metadata": {},
   "outputs": [
    {
     "data": {
      "text/plain": [
       "AnnData object with n_obs × n_vars = 10133 × 15779\n",
       "    obs: 'dataset', 'n_genes', 'n_counts'\n",
       "    var: 'n_cells', 'n_counts'"
      ]
     },
     "execution_count": 12,
     "metadata": {},
     "output_type": "execute_result"
    }
   ],
   "source": [
    "# confirm filtering\n",
    "combined"
   ]
  },
  {
   "cell_type": "code",
   "execution_count": 13,
   "id": "45ff48a3",
   "metadata": {},
   "outputs": [],
   "source": [
    "# filter out high mitochondrial counts\n",
    "# compute percent of counts in each cell that are from mitochondrial genes\n",
    "# annotate the group of mitochondrial genes as \"mt\"\n",
    "combined.var[\"mt\"] = combined.var_names.str.startswith(\"MT-\")\n",
    "sc.pp.calculate_qc_metrics(\n",
    "    combined, qc_vars=[\"mt\"], percent_top=None, log1p=False, inplace=True\n",
    ")\n",
    "# filter cells with high percentage of counts from mitochondrial genes\n",
    "# 25% as threshold\n",
    "# i might have done this wrong\n",
    "adata_filt = combined[combined.obs.n_genes_by_counts<2500, :]\n",
    "adata_filt = adata_filt[adata_filt.obs.pct_counts_mt<25, :].copy() "
   ]
  },
  {
   "cell_type": "code",
   "execution_count": 14,
   "id": "3053797c",
   "metadata": {},
   "outputs": [],
   "source": [
    "# normalize counts\n",
    "# total-count normalize data matrix to 10,000 reads per cell\n",
    "sc.pp.normalize_per_cell(adata_filt, counts_per_cell_after=1e4)\n",
    "# log transform data\n",
    "sc.pp.log1p(adata_filt)"
   ]
  },
  {
   "cell_type": "code",
   "execution_count": 15,
   "id": "f80076ce",
   "metadata": {},
   "outputs": [],
   "source": [
    "# identify highly variable genes\n",
    "    # options: \n",
    "    # batch_key=\"dataset\" <- select highly variable genes separately within the 3 datasets\n",
    "    # n_top_genes=500 <- select only the top 500 most variable genes\n",
    "sc.pp.highly_variable_genes(adata_filt, batch_key=\"dataset\", n_top_genes=500)"
   ]
  },
  {
   "cell_type": "code",
   "execution_count": 16,
   "id": "6f9ca1a8",
   "metadata": {},
   "outputs": [],
   "source": [
    "# create new AnnData object for analyses with:\n",
    "# only highly variable genes\n",
    "# genes with specific marker genes from paper (manually add back even if not most differentially expressed)\n",
    "genes = [\"GCG\", \"TTR\",  \"IAPP\",  \"GHRL\", \"PPY\", \"COL3A1\",\n",
    "    \"CPA1\", \"CLPS\", \"REG1A\", \"CTRB1\", \"CTRB2\", \"PRSS2\", \"CPA2\", \"KRT19\", \"INS\",\"SST\",\"CELA3A\", \"VTCN1\"]\n",
    "\n",
    "adata_var = adata_filt[:, (adata_filt.var.index.isin(genes) | adata_filt.var[\"highly_variable\"])]"
   ]
  },
  {
   "cell_type": "code",
   "execution_count": 17,
   "id": "7b11e681",
   "metadata": {},
   "outputs": [],
   "source": [
    "# remove batch effects (skip this???)\n",
    "# visualize batch effects\n",
    "# perform PCA on dataset and plot data along the first 2 PCs\n",
    "# compute first 20 PCs\n",
    "sc.pp.pca(adata_var, n_comps=20)"
   ]
  },
  {
   "cell_type": "code",
   "execution_count": 18,
   "id": "870ff653",
   "metadata": {},
   "outputs": [
    {
     "data": {
      "image/png": "[encoded data removed]",
      "text/plain": [
       "<Figure size 432x288 with 1 Axes>"
      ]
     },
     "metadata": {},
     "output_type": "display_data"
    }
   ],
   "source": [
    "sc.pl.pca(adata_var, color=\"dataset\")"
   ]
  },
  {
   "cell_type": "markdown",
   "id": "c75bcf4c",
   "metadata": {},
   "source": [
    "## Clustering and Visualization using t-SNE"
   ]
  },
  {
   "cell_type": "code",
   "execution_count": 19,
   "id": "73fdec12",
   "metadata": {},
   "outputs": [],
   "source": [
    "# identify individual cell types/visualize results\n",
    "# perform clustering using scanpy\n",
    "# computes neighborhood graphs, needed to run clustering\n",
    "sc.pp.neighbors(adata_var) "
   ]
  },
  {
   "cell_type": "code",
   "execution_count": 20,
   "id": "4cd3ebd8",
   "metadata": {},
   "outputs": [],
   "source": [
    "# clusters cells based on expression profiles, needed to color cells by cluster\n",
    "sc.tl.leiden(adata_var) "
   ]
  },
  {
   "cell_type": "code",
   "execution_count": null,
   "id": "e2431b9a",
   "metadata": {},
   "outputs": [],
   "source": [
    "# PERFORM t-SNE -- OUR CODE HERE"
   ]
  },
  {
   "cell_type": "code",
   "execution_count": 21,
   "id": "33aedd22",
   "metadata": {},
   "outputs": [],
   "source": [
    "# Step 1: Compute pairwise distances\n",
    "def pairwise_distances(X):\n",
    "    return squareform(pdist(X, 'euclidean'))\n",
    "\n",
    "# Step 2: Compute joint probabilities P in high-dimensional space\n",
    "def compute_joint_probabilities(distances, perplexity=30.0):\n",
    "    (n, _) = distances.shape\n",
    "    P = np.zeros((n, n))\n",
    "    beta = np.ones((n, 1))\n",
    "    logU = np.log(perplexity)\n",
    "    \n",
    "    for i in range(n):\n",
    "        betamin = -np.inf\n",
    "        betamax = np.inf\n",
    "        Di = distances[i, np.concatenate((np.r_[0:i], np.r_[i+1:n]))]\n",
    "        H, thisP = Hbeta(Di, beta[i])\n",
    "        \n",
    "        Hdiff = H - logU\n",
    "        tries = 0\n",
    "        while np.abs(Hdiff) > 1e-5 and tries < 50:\n",
    "            if Hdiff > 0:\n",
    "                betamin = beta[i].copy()\n",
    "                if betamax == np.inf:\n",
    "                    beta[i] *= 2\n",
    "                else:\n",
    "                    beta[i] = (beta[i] + betamax) / 2\n",
    "            else:\n",
    "                betamax = beta[i].copy()\n",
    "                if betamin == -np.inf:\n",
    "                    beta[i] /= 2\n",
    "                else:\n",
    "                    beta[i] = (beta[i] + betamin) / 2\n",
    "            \n",
    "            H, thisP = Hbeta(Di, beta[i])\n",
    "            Hdiff = H - logU\n",
    "            tries += 1\n",
    "        \n",
    "        P[i, np.concatenate((np.r_[0:i], np.r_[i+1:n]))] = thisP\n",
    "    \n",
    "    P = P + np.transpose(P)\n",
    "    P = P / np.sum(P)\n",
    "    P = np.maximum(P, 1e-12)\n",
    "    return P\n",
    "\n",
    "def Hbeta(D, beta):\n",
    "    P = np.exp(-D * beta)\n",
    "    sumP = np.sum(P)\n",
    "    H = np.log(sumP) + beta * np.sum(D * P) / sumP\n",
    "    P = P / sumP\n",
    "    return H, P\n",
    "\n",
    "# Step 3: Initialize embedding Y\n",
    "def initialize_embedding(n, dim=2):\n",
    "    return np.random.randn(n, dim)\n",
    "\n",
    "# Step 4: Compute low-dimensional affinities Q\n",
    "def compute_low_dim_affinities(Y):\n",
    "    distances = pairwise_distances(Y)\n",
    "    inv_distances = 1 / (1 + distances)\n",
    "    np.fill_diagonal(inv_distances, 0)\n",
    "    inv_distances_sum = np.sum(inv_distances)\n",
    "    Q = inv_distances / (inv_distances_sum + 1e-12)  # Add epsilon to avoid division by zero\n",
    "    Q = np.maximum(Q, 1e-12)\n",
    "    return Q\n",
    "\n",
    "# Step 5: Compute gradients and update embedding\n",
    "def compute_gradients(P, Q, Y):\n",
    "    n, dim = Y.shape\n",
    "    dY = np.zeros((n, dim))\n",
    "    PQ_diff = P - Q\n",
    "    for i in range(n):\n",
    "        dY[i, :] = 4 * np.sum((PQ_diff[:, i].reshape(-1, 1) * (Y[i, :] - Y)), axis=0)\n",
    "    return dY\n",
    "\n",
    "def update_embedding(Y, dY, learning_rate=200.0):\n",
    "    # Normalize the gradients\n",
    "    grad_norm = np.linalg.norm(dY, axis=1, keepdims=True)\n",
    "    dY = dY / (grad_norm + 1e-12)\n",
    "    \n",
    "    # Clip the gradients to prevent excessively large updates\n",
    "    max_step_size = 1.0\n",
    "    dY = np.clip(dY, -max_step_size, max_step_size)\n",
    "    \n",
    "    return Y - learning_rate * dY\n",
    "\n",
    "# Step 6: The main t-SNE function modified to store results in adata.obsm['X_tsne']\n",
    "def tsne(adata, perplexity=30.0, n_iter=1000, learning_rate=10.0):\n",
    "    X = adata.X\n",
    "    distances = pairwise_distances(X)\n",
    "    P = compute_joint_probabilities(distances, perplexity)\n",
    "    Y = initialize_embedding(X.shape[0])\n",
    "    \n",
    "    for iter in range(n_iter):\n",
    "        Q = compute_low_dim_affinities(Y)\n",
    "        dY = compute_gradients(P, Q, Y)\n",
    "        Y = update_embedding(Y, dY, learning_rate)\n",
    "        \n",
    "        if iter % 100 == 0:\n",
    "            cost = np.sum(P * np.log(P / Q))\n",
    "            # Uncomment the next line if you want to see the progress\n",
    "            # print(f\"Iteration {iter}: cost = {cost}\")\n",
    "            pass\n",
    "    \n",
    "    # Store the resulting t-SNE embedding in adata.obsm['X_tsne']\n",
    "    adata.obsm['X_tsne'] = Y"
   ]
  },
  {
   "cell_type": "code",
   "execution_count": 25,
   "id": "dc3873e3",
   "metadata": {},
   "outputs": [
    {
     "ename": "ValueError",
     "evalue": "Sparse matrices are not supported by this function. Perhaps one of the scipy.sparse.linalg functions would work instead.",
     "output_type": "error",
     "traceback": [
      "\u001b[0;31m---------------------------------------------------------------------------\u001b[0m",
      "\u001b[0;31mValueError\u001b[0m                                Traceback (most recent call last)",
      "\u001b[0;32m/tmp/ipykernel_412/278253835.py\u001b[0m in \u001b[0;36m<module>\u001b[0;34m\u001b[0m\n\u001b[0;32m----> 1\u001b[0;31m \u001b[0mtsne\u001b[0m\u001b[0;34m(\u001b[0m\u001b[0madata_var\u001b[0m\u001b[0;34m)\u001b[0m\u001b[0;34m\u001b[0m\u001b[0;34m\u001b[0m\u001b[0m\n\u001b[0m",
      "\u001b[0;32m/tmp/ipykernel_412/4230309579.py\u001b[0m in \u001b[0;36mtsne\u001b[0;34m(adata, perplexity, n_iter, learning_rate)\u001b[0m\n\u001b[1;32m     87\u001b[0m \u001b[0;32mdef\u001b[0m \u001b[0mtsne\u001b[0m\u001b[0;34m(\u001b[0m\u001b[0madata\u001b[0m\u001b[0;34m,\u001b[0m \u001b[0mperplexity\u001b[0m\u001b[0;34m=\u001b[0m\u001b[0;36m30.0\u001b[0m\u001b[0;34m,\u001b[0m \u001b[0mn_iter\u001b[0m\u001b[0;34m=\u001b[0m\u001b[0;36m1000\u001b[0m\u001b[0;34m,\u001b[0m \u001b[0mlearning_rate\u001b[0m\u001b[0;34m=\u001b[0m\u001b[0;36m10.0\u001b[0m\u001b[0;34m)\u001b[0m\u001b[0;34m:\u001b[0m\u001b[0;34m\u001b[0m\u001b[0;34m\u001b[0m\u001b[0m\n\u001b[1;32m     88\u001b[0m     \u001b[0mX\u001b[0m \u001b[0;34m=\u001b[0m \u001b[0madata\u001b[0m\u001b[0;34m.\u001b[0m\u001b[0mX\u001b[0m\u001b[0;34m\u001b[0m\u001b[0;34m\u001b[0m\u001b[0m\n\u001b[0;32m---> 89\u001b[0;31m     \u001b[0mdistances\u001b[0m \u001b[0;34m=\u001b[0m \u001b[0mpairwise_distances\u001b[0m\u001b[0;34m(\u001b[0m\u001b[0mX\u001b[0m\u001b[0;34m)\u001b[0m\u001b[0;34m\u001b[0m\u001b[0;34m\u001b[0m\u001b[0m\n\u001b[0m\u001b[1;32m     90\u001b[0m     \u001b[0mP\u001b[0m \u001b[0;34m=\u001b[0m \u001b[0mcompute_joint_probabilities\u001b[0m\u001b[0;34m(\u001b[0m\u001b[0mdistances\u001b[0m\u001b[0;34m,\u001b[0m \u001b[0mperplexity\u001b[0m\u001b[0;34m)\u001b[0m\u001b[0;34m\u001b[0m\u001b[0;34m\u001b[0m\u001b[0m\n\u001b[1;32m     91\u001b[0m     \u001b[0mY\u001b[0m \u001b[0;34m=\u001b[0m \u001b[0minitialize_embedding\u001b[0m\u001b[0;34m(\u001b[0m\u001b[0mX\u001b[0m\u001b[0;34m.\u001b[0m\u001b[0mshape\u001b[0m\u001b[0;34m[\u001b[0m\u001b[0;36m0\u001b[0m\u001b[0;34m]\u001b[0m\u001b[0;34m)\u001b[0m\u001b[0;34m\u001b[0m\u001b[0;34m\u001b[0m\u001b[0m\n",
      "\u001b[0;32m/tmp/ipykernel_412/4230309579.py\u001b[0m in \u001b[0;36mpairwise_distances\u001b[0;34m(X)\u001b[0m\n\u001b[1;32m      1\u001b[0m \u001b[0;31m# Step 1: Compute pairwise distances\u001b[0m\u001b[0;34m\u001b[0m\u001b[0;34m\u001b[0m\u001b[0;34m\u001b[0m\u001b[0m\n\u001b[1;32m      2\u001b[0m \u001b[0;32mdef\u001b[0m \u001b[0mpairwise_distances\u001b[0m\u001b[0;34m(\u001b[0m\u001b[0mX\u001b[0m\u001b[0;34m)\u001b[0m\u001b[0;34m:\u001b[0m\u001b[0;34m\u001b[0m\u001b[0;34m\u001b[0m\u001b[0m\n\u001b[0;32m----> 3\u001b[0;31m     \u001b[0;32mreturn\u001b[0m \u001b[0msquareform\u001b[0m\u001b[0;34m(\u001b[0m\u001b[0mpdist\u001b[0m\u001b[0;34m(\u001b[0m\u001b[0mX\u001b[0m\u001b[0;34m,\u001b[0m \u001b[0;34m'euclidean'\u001b[0m\u001b[0;34m)\u001b[0m\u001b[0;34m)\u001b[0m\u001b[0;34m\u001b[0m\u001b[0;34m\u001b[0m\u001b[0m\n\u001b[0m\u001b[1;32m      4\u001b[0m \u001b[0;34m\u001b[0m\u001b[0m\n\u001b[1;32m      5\u001b[0m \u001b[0;31m# Step 2: Compute joint probabilities P in high-dimensional space\u001b[0m\u001b[0;34m\u001b[0m\u001b[0;34m\u001b[0m\u001b[0;34m\u001b[0m\u001b[0m\n",
      "\u001b[0;32m/opt/conda/lib/python3.9/site-packages/scipy/spatial/distance.py\u001b[0m in \u001b[0;36mpdist\u001b[0;34m(X, metric, out, **kwargs)\u001b[0m\n\u001b[1;32m   2224\u001b[0m     \u001b[0;31m# with a more succinct, verifiable, but less efficient implementation.\u001b[0m\u001b[0;34m\u001b[0m\u001b[0;34m\u001b[0m\u001b[0;34m\u001b[0m\u001b[0m\n\u001b[1;32m   2225\u001b[0m \u001b[0;34m\u001b[0m\u001b[0m\n\u001b[0;32m-> 2226\u001b[0;31m     X = _asarray_validated(X, sparse_ok=False, objects_ok=True, mask_ok=True,\n\u001b[0m\u001b[1;32m   2227\u001b[0m                            check_finite=False)\n\u001b[1;32m   2228\u001b[0m \u001b[0;34m\u001b[0m\u001b[0m\n",
      "\u001b[0;32m/opt/conda/lib/python3.9/site-packages/scipy/_lib/_util.py\u001b[0m in \u001b[0;36m_asarray_validated\u001b[0;34m(a, check_finite, sparse_ok, objects_ok, mask_ok, as_inexact)\u001b[0m\n\u001b[1;32m    286\u001b[0m                    \u001b[0;34m'Perhaps one of the scipy.sparse.linalg functions '\u001b[0m\u001b[0;34m\u001b[0m\u001b[0;34m\u001b[0m\u001b[0m\n\u001b[1;32m    287\u001b[0m                    'would work instead.')\n\u001b[0;32m--> 288\u001b[0;31m             \u001b[0;32mraise\u001b[0m \u001b[0mValueError\u001b[0m\u001b[0;34m(\u001b[0m\u001b[0mmsg\u001b[0m\u001b[0;34m)\u001b[0m\u001b[0;34m\u001b[0m\u001b[0;34m\u001b[0m\u001b[0m\n\u001b[0m\u001b[1;32m    289\u001b[0m     \u001b[0;32mif\u001b[0m \u001b[0;32mnot\u001b[0m \u001b[0mmask_ok\u001b[0m\u001b[0;34m:\u001b[0m\u001b[0;34m\u001b[0m\u001b[0;34m\u001b[0m\u001b[0m\n\u001b[1;32m    290\u001b[0m         \u001b[0;32mif\u001b[0m \u001b[0mnp\u001b[0m\u001b[0;34m.\u001b[0m\u001b[0mma\u001b[0m\u001b[0;34m.\u001b[0m\u001b[0misMaskedArray\u001b[0m\u001b[0;34m(\u001b[0m\u001b[0ma\u001b[0m\u001b[0;34m)\u001b[0m\u001b[0;34m:\u001b[0m\u001b[0;34m\u001b[0m\u001b[0;34m\u001b[0m\u001b[0m\n",
      "\u001b[0;31mValueError\u001b[0m: Sparse matrices are not supported by this function. Perhaps one of the scipy.sparse.linalg functions would work instead."
     ]
    }
   ],
   "source": [
    "tsne(adata_var)"
   ]
  },
  {
   "cell_type": "code",
   "execution_count": 26,
   "id": "bd3c4fec",
   "metadata": {},
   "outputs": [],
   "source": [
    "def plot_tsne_results(adata, feature, title='t-SNE results', figsize=(10, 8)):\n",
    "    tsne_out = adata.obsm['X_tsne']\n",
    "    labels = adata.obs[feature].astype(int).values\n",
    "    plt.figure(figsize=figsize)\n",
    "    scatter = plt.scatter(tsne_out[:, 0], tsne_out[:, 1], c=labels, cmap='viridis', marker='o')\n",
    "    if labels is not None:\n",
    "        plt.legend(*scatter.legend_elements(), title=\"Clusters\")\n",
    "    plt.title(title)\n",
    "    plt.xlabel('t-SNE 1')\n",
    "    plt.ylabel('t-SNE 2')\n",
    "    plt.colorbar()\n",
    "    plt.show()"
   ]
  },
  {
   "cell_type": "code",
   "execution_count": null,
   "id": "91947145",
   "metadata": {},
   "outputs": [],
   "source": [
    "# Extract t-SNE results and cluster labels\n",
    "tsne_out = adata_var.obsm['X_tsne']\n",
    "clusters = adata_var.obs['leiden'].astype(int).values  # Cluster labels\n",
    "\n",
    "# Plot the t-SNE results\n",
    "plot_tsne_results(adata, feature='leiden')"
   ]
  }
 ],
 "metadata": {
  "kernelspec": {
   "display_name": "Python 3 (clean)",
   "language": "python",
   "name": "python3_clean"
  },
  "language_info": {
   "codemirror_mode": {
    "name": "ipython",
    "version": 3
   },
   "file_extension": ".py",
   "mimetype": "text/x-python",
   "name": "python",
   "nbconvert_exporter": "python",
   "pygments_lexer": "ipython3",
   "version": "3.9.5"
  }
 },
 "nbformat": 4,
 "nbformat_minor": 5
}
