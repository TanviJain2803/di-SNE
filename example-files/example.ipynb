{
 "cells": [
  {
   "cell_type": "markdown",
   "id": "a653914b",
   "metadata": {},
   "source": [
    "This notebook runs a small test of the di-SNE implementation, visualizing a subset of the [Iris Dataset example](https://scikit-learn.org/stable/auto_examples/datasets/plot_iris_dataset.html#sphx-glr-auto-examples-datasets-plot-iris-dataset-py), which can be found at the scikit-learn website. The example dataset is included in this folder as `test_dataset.txt`."
   ]
  },
  {
   "cell_type": "markdown",
   "id": "7886f925",
   "metadata": {},
   "source": [
    "```\n",
    "# install packages\n",
    "pip install --user scanpy leidenalg\n",
    "```"
   ]
  },
  {
   "cell_type": "code",
   "execution_count": 20,
   "id": "5c1446f6",
   "metadata": {},
   "outputs": [],
   "source": [
    "# set up packages to cluster data\n",
    "import sys\n",
    "import os\n",
    "sys.path.append(os.environ[\"HOME\"]+\"/.local/lib/python3.9/site-packages\")"
   ]
  },
  {
   "cell_type": "code",
   "execution_count": 21,
   "id": "9a9f42e9",
   "metadata": {},
   "outputs": [],
   "source": [
    "import scanpy as sc, anndata as ad\n",
    "import leidenalg\n",
    "import numpy as np\n",
    "import pandas as pd"
   ]
  },
  {
   "cell_type": "code",
   "execution_count": 27,
   "id": "2d4543dc",
   "metadata": {},
   "outputs": [],
   "source": [
    "# diSNE packages \n",
    "import matplotlib.pyplot as plt\n",
    "import seaborn as sns\n",
    "import numpy as np\n",
    "from scipy.spatial.distance import pdist, squareform"
   ]
  },
  {
   "cell_type": "code",
   "execution_count": 22,
   "id": "f85b3607",
   "metadata": {},
   "outputs": [
    {
     "name": "stdout",
     "output_type": "stream",
     "text": [
      "-----\n",
      "anndata     0.9.1\n",
      "scanpy      1.9.3\n",
      "-----\n",
      "PIL                 8.3.1\n",
      "anyio               NA\n",
      "attr                21.2.0\n",
      "babel               2.9.1\n",
      "backcall            0.2.0\n",
      "beta_ufunc          NA\n",
      "binom_ufunc         NA\n",
      "bottleneck          1.3.2\n",
      "brotli              NA\n",
      "certifi             2022.12.07\n",
      "cffi                1.14.6\n",
      "chardet             4.0.0\n",
      "charset_normalizer  2.0.0\n",
      "cloudpickle         1.6.0\n",
      "colorama            0.4.6\n",
      "cycler              0.10.0\n",
      "cython_runtime      NA\n",
      "cytoolz             0.11.0\n",
      "dask                2021.06.2\n",
      "dateutil            2.8.2\n",
      "debugpy             1.6.7\n",
      "decorator           5.0.9\n",
      "defusedxml          0.7.1\n",
      "entrypoints         0.3\n",
      "fastjsonschema      NA\n",
      "fsspec              2021.07.0\n",
      "google              NA\n",
      "h5py                3.3.0\n",
      "idna                3.1\n",
      "igraph              0.11.4\n",
      "ipykernel           6.17.1\n",
      "ipython_genutils    0.2.0\n",
      "ipywidgets          7.6.3\n",
      "jedi                0.18.0\n",
      "jinja2              3.0.1\n",
      "joblib              1.0.1\n",
      "json5               NA\n",
      "jsonschema          3.2.0\n",
      "jupyter_server      1.23.6\n",
      "jupyterlab_server   2.6.1\n",
      "kiwisolver          1.3.1\n",
      "leidenalg           0.10.2\n",
      "llvmlite            0.36.0\n",
      "markupsafe          2.0.1\n",
      "matplotlib          3.4.2\n",
      "matplotlib_inline   NA\n",
      "mpl_toolkits        NA\n",
      "natsort             8.3.1\n",
      "nbclassic           NA\n",
      "nbformat            5.8.0\n",
      "nbinom_ufunc        NA\n",
      "numba               0.53.1\n",
      "numexpr             2.7.3\n",
      "numpy               1.21.1\n",
      "packaging           21.0\n",
      "pandas              1.5.3\n",
      "parso               0.8.2\n",
      "pexpect             4.8.0\n",
      "pickleshare         0.7.5\n",
      "pkg_resources       NA\n",
      "plotly              5.14.1\n",
      "prometheus_client   NA\n",
      "prompt_toolkit      3.0.19\n",
      "psutil              5.8.0\n",
      "ptyprocess          0.7.0\n",
      "pvectorc            NA\n",
      "pycparser           2.20\n",
      "pydev_ipython       NA\n",
      "pydevconsole        NA\n",
      "pydevd              2.9.5\n",
      "pydevd_file_utils   NA\n",
      "pydevd_plugins      NA\n",
      "pydevd_tracing      NA\n",
      "pyexpat             NA\n",
      "pygments            2.9.0\n",
      "pynndescent         0.5.10\n",
      "pyparsing           2.4.7\n",
      "pyrsistent          NA\n",
      "pytz                2021.1\n",
      "requests            2.26.0\n",
      "rfc3339_validator   0.1.4\n",
      "rfc3986_validator   0.1.1\n",
      "ruamel              NA\n",
      "scipy               1.7.0\n",
      "send2trash          NA\n",
      "session_info        1.0.0\n",
      "six                 1.16.0\n",
      "sklearn             0.24.2\n",
      "sniffio             1.2.0\n",
      "socks               1.7.1\n",
      "storemagic          NA\n",
      "tblib               1.7.0\n",
      "terminado           0.10.1\n",
      "texttable           1.7.0\n",
      "tlz                 0.11.0\n",
      "toolz               0.11.1\n",
      "tornado             6.2\n",
      "tqdm                4.61.2\n",
      "traitlets           5.1.1\n",
      "typing_extensions   NA\n",
      "umap                0.5.3\n",
      "urllib3             1.26.6\n",
      "wcwidth             0.2.5\n",
      "websocket           0.57.0\n",
      "yaml                5.4.1\n",
      "zmq                 25.0.2\n",
      "-----\n",
      "IPython             7.25.0\n",
      "jupyter_client      7.4.9\n",
      "jupyter_core        4.12.0\n",
      "jupyterlab          3.0.16\n",
      "notebook            6.4.0\n",
      "-----\n",
      "Python 3.9.5 | packaged by conda-forge | (default, Jun 19 2021, 00:32:32) [GCC 9.3.0]\n",
      "Linux-3.10.0-1160.114.2.el7.x86_64-x86_64-with-glibc2.31\n",
      "-----\n",
      "Session information updated at 2024-05-19 21:11\n"
     ]
    }
   ],
   "source": [
    "# check imports\n",
    "sc.logging.print_versions()"
   ]
  },
  {
   "cell_type": "code",
   "execution_count": 8,
   "id": "4af15bde",
   "metadata": {},
   "outputs": [],
   "source": [
    "# read in example dataset as AnnData object\n",
    "dataset = ad.read_csv('test_dataset.txt', delimiter='\\t')"
   ]
  },
  {
   "cell_type": "code",
   "execution_count": 15,
   "id": "770e4ee9",
   "metadata": {},
   "outputs": [
    {
     "data": {
      "text/html": [
       "<div>\n",
       "<style scoped>\n",
       "    .dataframe tbody tr th:only-of-type {\n",
       "        vertical-align: middle;\n",
       "    }\n",
       "\n",
       "    .dataframe tbody tr th {\n",
       "        vertical-align: top;\n",
       "    }\n",
       "\n",
       "    .dataframe thead th {\n",
       "        text-align: right;\n",
       "    }\n",
       "</style>\n",
       "<table border=\"1\" class=\"dataframe\">\n",
       "  <thead>\n",
       "    <tr style=\"text-align: right;\">\n",
       "      <th></th>\n",
       "    </tr>\n",
       "  </thead>\n",
       "  <tbody>\n",
       "    <tr>\n",
       "      <th>sepal_length</th>\n",
       "    </tr>\n",
       "    <tr>\n",
       "      <th>sepal_width</th>\n",
       "    </tr>\n",
       "    <tr>\n",
       "      <th>petal_length</th>\n",
       "    </tr>\n",
       "    <tr>\n",
       "      <th>petal_width</th>\n",
       "    </tr>\n",
       "    <tr>\n",
       "      <th>species</th>\n",
       "    </tr>\n",
       "  </tbody>\n",
       "</table>\n",
       "</div>"
      ],
      "text/plain": [
       "Empty DataFrame\n",
       "Columns: []\n",
       "Index: [sepal_length, sepal_width, petal_length, petal_width, species]"
      ]
     },
     "execution_count": 15,
     "metadata": {},
     "output_type": "execute_result"
    }
   ],
   "source": [
    "dataset.var"
   ]
  },
  {
   "cell_type": "code",
   "execution_count": 16,
   "id": "25012ad4",
   "metadata": {},
   "outputs": [
    {
     "name": "stdout",
     "output_type": "stream",
     "text": [
      "WARNING: n_obs too small: adjusting to `n_neighbors = 3`\n"
     ]
    }
   ],
   "source": [
    "# compute neighborhood graphs, needed to run clustering\n",
    "sc.pp.neighbors(dataset)"
   ]
  },
  {
   "cell_type": "code",
   "execution_count": 23,
   "id": "7ddb67f7",
   "metadata": {},
   "outputs": [],
   "source": [
    "# clusters cells based on expression profiles, this is needed to color cells by cluster\n",
    "sc.tl.leiden(dataset)"
   ]
  },
  {
   "cell_type": "code",
   "execution_count": 25,
   "id": "51544340",
   "metadata": {},
   "outputs": [
    {
     "data": {
      "text/plain": [
       "AnnData object with n_obs × n_vars = 5 × 5\n",
       "    obs: 'leiden'\n",
       "    uns: 'neighbors', 'leiden'\n",
       "    obsp: 'distances', 'connectivities'"
      ]
     },
     "execution_count": 25,
     "metadata": {},
     "output_type": "execute_result"
    }
   ],
   "source": [
    "dataset"
   ]
  },
  {
   "cell_type": "code",
   "execution_count": 24,
   "id": "062a19fd",
   "metadata": {},
   "outputs": [],
   "source": [
    "# TEST: use diSNE to run t-SNE and visualize clusters\n",
    "# Step 1: Compute pairwise distances\n",
    "def pairwise_distances(X):\n",
    "    return squareform(pdist(X, 'euclidean'))\n",
    "\n",
    "# Step 2: Compute joint probabilities P in high-dimensional space\n",
    "def compute_joint_probabilities(distances, perplexity=30.0):\n",
    "    (n, _) = distances.shape\n",
    "    P = np.zeros((n, n))\n",
    "    beta = np.ones((n, 1))\n",
    "    logU = np.log(perplexity)\n",
    "    \n",
    "    for i in range(n):\n",
    "        betamin = -np.inf\n",
    "        betamax = np.inf\n",
    "        Di = distances[i, np.concatenate((np.r_[0:i], np.r_[i+1:n]))]\n",
    "        H, thisP = Hbeta(Di, beta[i])\n",
    "        \n",
    "        Hdiff = H - logU\n",
    "        tries = 0\n",
    "        while np.abs(Hdiff) > 1e-5 and tries < 50:\n",
    "            if Hdiff > 0:\n",
    "                betamin = beta[i].copy()\n",
    "                if betamax == np.inf:\n",
    "                    beta[i] *= 2\n",
    "                else:\n",
    "                    beta[i] = (beta[i] + betamax) / 2\n",
    "            else:\n",
    "                betamax = beta[i].copy()\n",
    "                if betamin == -np.inf:\n",
    "                    beta[i] /= 2\n",
    "                else:\n",
    "                    beta[i] = (beta[i] + betamin) / 2\n",
    "            \n",
    "            H, thisP = Hbeta(Di, beta[i])\n",
    "            Hdiff = H - logU\n",
    "            tries += 1\n",
    "        \n",
    "        P[i, np.concatenate((np.r_[0:i], np.r_[i+1:n]))] = thisP\n",
    "    \n",
    "    P = P + np.transpose(P)\n",
    "    P = P / np.sum(P)\n",
    "    P = np.maximum(P, 1e-12)\n",
    "    return P\n",
    "\n",
    "def Hbeta(D, beta):\n",
    "    P = np.exp(-D * beta)\n",
    "    sumP = np.sum(P)\n",
    "    H = np.log(sumP) + beta * np.sum(D * P) / sumP\n",
    "    P = P / sumP\n",
    "    return H, P\n",
    "\n",
    "# Step 3: Initialize embedding Y\n",
    "def initialize_embedding(n, dim=2):\n",
    "    return np.random.randn(n, dim)\n",
    "\n",
    "# Step 4: Compute low-dimensional affinities Q\n",
    "def compute_low_dim_affinities(Y):\n",
    "    distances = pairwise_distances(Y)\n",
    "    inv_distances = 1 / (1 + distances)\n",
    "    np.fill_diagonal(inv_distances, 0)\n",
    "    Q = inv_distances / np.sum(inv_distances)\n",
    "    Q = np.maximum(Q, 1e-12)\n",
    "    return Q\n",
    "\n",
    "# Step 5: Compute gradients and update embedding\n",
    "def compute_gradients(P, Q, Y):\n",
    "    n, dim = Y.shape\n",
    "    dY = np.zeros((n, dim))\n",
    "    PQ_diff = P - Q\n",
    "    for i in range(n):\n",
    "        dY[i, :] = 4 * np.sum((PQ_diff[:, i] * (Y[i, :] - Y)), axis=0)\n",
    "    return dY\n",
    "\n",
    "def update_embedding(Y, dY, learning_rate=200.0):\n",
    "    return Y - learning_rate * dY\n",
    "\n",
    "# Step 6: The main t-SNE function\n",
    "def tsne(X, perplexity=30.0, n_iter=1000, learning_rate=200.0):\n",
    "    distances = pairwise_distances(X)\n",
    "    P = compute_joint_probabilities(distances, perplexity)\n",
    "    Y = initialize_embedding(X.shape[0])\n",
    "    \n",
    "    for iter in range(n_iter):\n",
    "        Q = compute_low_dim_affinities(Y)\n",
    "        dY = compute_gradients(P, Q, Y)\n",
    "        Y = update_embedding(Y, dY, learning_rate)\n",
    "        \n",
    "        if iter % 100 == 0:\n",
    "            cost = np.sum(P * np.log(P / Q))\n",
    "            print(f\"Iteration {iter}: cost = {cost}\")\n",
    "    \n",
    "    return Y"
   ]
  },
  {
   "cell_type": "code",
   "execution_count": 34,
   "id": "2b4e41b1",
   "metadata": {},
   "outputs": [
    {
     "data": {
      "text/plain": [
       "array([[5.1, 3.5, 1.4, 0.2, 0. ],\n",
       "       [4.9, 3. , 1.4, 0.2, 0. ],\n",
       "       [4.7, 3.2, 1.3, 0.2, 0. ],\n",
       "       [4.6, 3.1, 1.5, 0.2, 0. ],\n",
       "       [5. , 3.6, 1.4, 0.2, 0. ]], dtype=float32)"
      ]
     },
     "execution_count": 34,
     "metadata": {},
     "output_type": "execute_result"
    }
   ],
   "source": [
    "values = dataset.to_df().values\n",
    "values"
   ]
  },
  {
   "cell_type": "code",
   "execution_count": 36,
   "id": "c8a5e6bc",
   "metadata": {},
   "outputs": [
    {
     "ename": "ValueError",
     "evalue": "operands could not be broadcast together with shapes (5,) (5,2) ",
     "output_type": "error",
     "traceback": [
      "\u001b[0;31m---------------------------------------------------------------------------\u001b[0m",
      "\u001b[0;31mValueError\u001b[0m                                Traceback (most recent call last)",
      "\u001b[0;32m/tmp/ipykernel_167/1665276190.py\u001b[0m in \u001b[0;36m<module>\u001b[0;34m\u001b[0m\n\u001b[0;32m----> 1\u001b[0;31m \u001b[0mtsne_out\u001b[0m \u001b[0;34m=\u001b[0m \u001b[0mtsne\u001b[0m\u001b[0;34m(\u001b[0m\u001b[0mvalues\u001b[0m\u001b[0;34m,\u001b[0m \u001b[0mperplexity\u001b[0m\u001b[0;34m=\u001b[0m\u001b[0;36m30.0\u001b[0m\u001b[0;34m,\u001b[0m \u001b[0mn_iter\u001b[0m\u001b[0;34m=\u001b[0m\u001b[0;36m1000\u001b[0m\u001b[0;34m)\u001b[0m\u001b[0;34m\u001b[0m\u001b[0;34m\u001b[0m\u001b[0m\n\u001b[0m",
      "\u001b[0;32m/tmp/ipykernel_167/16406520.py\u001b[0m in \u001b[0;36mtsne\u001b[0;34m(X, perplexity, n_iter, learning_rate)\u001b[0m\n\u001b[1;32m     84\u001b[0m     \u001b[0;32mfor\u001b[0m \u001b[0miter\u001b[0m \u001b[0;32min\u001b[0m \u001b[0mrange\u001b[0m\u001b[0;34m(\u001b[0m\u001b[0mn_iter\u001b[0m\u001b[0;34m)\u001b[0m\u001b[0;34m:\u001b[0m\u001b[0;34m\u001b[0m\u001b[0;34m\u001b[0m\u001b[0m\n\u001b[1;32m     85\u001b[0m         \u001b[0mQ\u001b[0m \u001b[0;34m=\u001b[0m \u001b[0mcompute_low_dim_affinities\u001b[0m\u001b[0;34m(\u001b[0m\u001b[0mY\u001b[0m\u001b[0;34m)\u001b[0m\u001b[0;34m\u001b[0m\u001b[0;34m\u001b[0m\u001b[0m\n\u001b[0;32m---> 86\u001b[0;31m         \u001b[0mdY\u001b[0m \u001b[0;34m=\u001b[0m \u001b[0mcompute_gradients\u001b[0m\u001b[0;34m(\u001b[0m\u001b[0mP\u001b[0m\u001b[0;34m,\u001b[0m \u001b[0mQ\u001b[0m\u001b[0;34m,\u001b[0m \u001b[0mY\u001b[0m\u001b[0;34m)\u001b[0m\u001b[0;34m\u001b[0m\u001b[0;34m\u001b[0m\u001b[0m\n\u001b[0m\u001b[1;32m     87\u001b[0m         \u001b[0mY\u001b[0m \u001b[0;34m=\u001b[0m \u001b[0mupdate_embedding\u001b[0m\u001b[0;34m(\u001b[0m\u001b[0mY\u001b[0m\u001b[0;34m,\u001b[0m \u001b[0mdY\u001b[0m\u001b[0;34m,\u001b[0m \u001b[0mlearning_rate\u001b[0m\u001b[0;34m)\u001b[0m\u001b[0;34m\u001b[0m\u001b[0;34m\u001b[0m\u001b[0m\n\u001b[1;32m     88\u001b[0m \u001b[0;34m\u001b[0m\u001b[0m\n",
      "\u001b[0;32m/tmp/ipykernel_167/16406520.py\u001b[0m in \u001b[0;36mcompute_gradients\u001b[0;34m(P, Q, Y)\u001b[0m\n\u001b[1;32m     70\u001b[0m     \u001b[0mPQ_diff\u001b[0m \u001b[0;34m=\u001b[0m \u001b[0mP\u001b[0m \u001b[0;34m-\u001b[0m \u001b[0mQ\u001b[0m\u001b[0;34m\u001b[0m\u001b[0;34m\u001b[0m\u001b[0m\n\u001b[1;32m     71\u001b[0m     \u001b[0;32mfor\u001b[0m \u001b[0mi\u001b[0m \u001b[0;32min\u001b[0m \u001b[0mrange\u001b[0m\u001b[0;34m(\u001b[0m\u001b[0mn\u001b[0m\u001b[0;34m)\u001b[0m\u001b[0;34m:\u001b[0m\u001b[0;34m\u001b[0m\u001b[0;34m\u001b[0m\u001b[0m\n\u001b[0;32m---> 72\u001b[0;31m         \u001b[0mdY\u001b[0m\u001b[0;34m[\u001b[0m\u001b[0mi\u001b[0m\u001b[0;34m,\u001b[0m \u001b[0;34m:\u001b[0m\u001b[0;34m]\u001b[0m \u001b[0;34m=\u001b[0m \u001b[0;36m4\u001b[0m \u001b[0;34m*\u001b[0m \u001b[0mnp\u001b[0m\u001b[0;34m.\u001b[0m\u001b[0msum\u001b[0m\u001b[0;34m(\u001b[0m\u001b[0;34m(\u001b[0m\u001b[0mPQ_diff\u001b[0m\u001b[0;34m[\u001b[0m\u001b[0;34m:\u001b[0m\u001b[0;34m,\u001b[0m \u001b[0mi\u001b[0m\u001b[0;34m]\u001b[0m \u001b[0;34m*\u001b[0m \u001b[0;34m(\u001b[0m\u001b[0mY\u001b[0m\u001b[0;34m[\u001b[0m\u001b[0mi\u001b[0m\u001b[0;34m,\u001b[0m \u001b[0;34m:\u001b[0m\u001b[0;34m]\u001b[0m \u001b[0;34m-\u001b[0m \u001b[0mY\u001b[0m\u001b[0;34m)\u001b[0m\u001b[0;34m)\u001b[0m\u001b[0;34m,\u001b[0m \u001b[0maxis\u001b[0m\u001b[0;34m=\u001b[0m\u001b[0;36m0\u001b[0m\u001b[0;34m)\u001b[0m\u001b[0;34m\u001b[0m\u001b[0;34m\u001b[0m\u001b[0m\n\u001b[0m\u001b[1;32m     73\u001b[0m     \u001b[0;32mreturn\u001b[0m \u001b[0mdY\u001b[0m\u001b[0;34m\u001b[0m\u001b[0;34m\u001b[0m\u001b[0m\n\u001b[1;32m     74\u001b[0m \u001b[0;34m\u001b[0m\u001b[0m\n",
      "\u001b[0;31mValueError\u001b[0m: operands could not be broadcast together with shapes (5,) (5,2) "
     ]
    }
   ],
   "source": [
    "tsne_out = tsne(values, perplexity=30.0, n_iter=1000)"
   ]
  },
  {
   "cell_type": "code",
   "execution_count": null,
   "id": "1ca962d2",
   "metadata": {},
   "outputs": [],
   "source": [
    "# Assuming you have a 'cluster' column in your original data\n",
    "# i think the 'leiden' col is equivalent to cluster col?\n",
    "# Add t-SNE results and cluster labels to a new DataFrame for plotting\n",
    "tsne_df['Cluster'] = data['cluster']"
   ]
  },
  {
   "cell_type": "code",
   "execution_count": null,
   "id": "44fbac91",
   "metadata": {},
   "outputs": [],
   "source": [
    "import matplotlib.pyplot as plt\n",
    "\n",
    "def plot_tsne_results(Y, labels=None, title='t-SNE Visualization'):\n",
    "    \"\"\"\n",
    "    Plot the t-SNE results.\n",
    "\n",
    "    Parameters:\n",
    "    - Y: np.ndarray, the t-SNE embedding, shape (n_samples, 2)\n",
    "    - labels: np.ndarray or list, cluster labels for the data points, shape (n_samples,)\n",
    "    - title: str, title of the plot\n",
    "    \"\"\"\n",
    "    plt.figure(figsize=(10, 8))\n",
    "    if labels is not None:\n",
    "        unique_labels = np.unique(labels)\n",
    "        for label in unique_labels:\n",
    "            plt.scatter(\n",
    "                Y[labels == label, 0], Y[labels == label, 1],\n",
    "                label=f'Cluster {label}', alpha=0.6\n",
    "            )\n",
    "        plt.legend()\n",
    "    else:\n",
    "        plt.scatter(Y[:, 0], Y[:, 1], alpha=0.6)\n",
    "    \n",
    "    plt.title(title)\n",
    "    plt.xlabel('TSNE1')\n",
    "    plt.ylabel('TSNE2')\n",
    "    plt.show()\n",
    "\n",
    "# Example usage\n",
    "# Assuming 'result' is the output of the tsne function and 'clusters' are the cluster labels\n",
    "# clusters = data['cluster'].values  # or any array of cluster labels\n",
    "# plot_tsne_results(result, labels=clusters)"
   ]
  }
 ],
 "metadata": {
  "kernelspec": {
   "display_name": "Python 3 (clean)",
   "language": "python",
   "name": "python3_clean"
  },
  "language_info": {
   "codemirror_mode": {
    "name": "ipython",
    "version": 3
   },
   "file_extension": ".py",
   "mimetype": "text/x-python",
   "name": "python",
   "nbconvert_exporter": "python",
   "pygments_lexer": "ipython3",
   "version": "3.9.5"
  }
 },
 "nbformat": 4,
 "nbformat_minor": 5
}
