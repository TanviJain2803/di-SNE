{
 "cells": [
  {
   "cell_type": "code",
   "execution_count": 3,
   "id": "6984e608",
   "metadata": {},
   "outputs": [],
   "source": [
    "# packages setup\n",
    "import sys\n",
    "import os\n",
    "sys.path.append(os.environ[\"HOME\"]+\"/.local/lib/python3.9/site-packages\")\n",
    "import scanpy as sc, anndata as ad\n",
    "import leidenalg\n",
    "import numpy as np\n",
    "import pandas as pd\n",
    "from sklearn.datasets import make_blobs\n",
    "import matplotlib.pyplot as plt\n",
    "import seaborn as sns\n",
    "import numpy as np\n",
    "from scipy.spatial.distance import pdist, squareform"
   ]
  },
  {
   "cell_type": "markdown",
   "id": "3ede31cf",
   "metadata": {},
   "source": [
    "[i'm dying](https://towardsdatascience.com/t-sne-from-scratch-ft-numpy-172ee2a61df7)"
   ]
  },
  {
   "cell_type": "markdown",
   "id": "bb65daac",
   "metadata": {},
   "source": [
    "**steps**:\n",
    "1. get similarity matrix between points in original (high dimensional) space\n",
    "    - get conditional probabilities for each point relative to all other points using a Gaussian  \n",
    "2. initialization\n",
    "    - chose random starting points in the lower-dimensional space for each original datapoint and compute a new probability matrix using a Student t-distribution rather than a Guassian, but in the lower dimensional space  \n",
    "3. mapping \n",
    "    - minimize Kullback-Liebler divergence between joint probabilities --> minimize the differences in the probabilities between the similarity matrices of the two spaces"
   ]
  },
  {
   "cell_type": "code",
   "execution_count": 4,
   "id": "528c83c7",
   "metadata": {},
   "outputs": [],
   "source": [
    "# STEP 1 \n",
    "# get pairwise distances\n",
    "def get_pairwise_dist(X):\n",
    "    return squareform(pdist(X, 'euclidean'))"
   ]
  },
  {
   "cell_type": "markdown",
   "id": "ce1355c4",
   "metadata": {},
   "source": [
    "search space defined by [0.01 * standard deviation of the norms for the difference between images i and j, 5 * standard deviation of the norms for the difference between images i and j] divided into 200 equal steps. "
   ]
  },
  {
   "cell_type": "code",
   "execution_count": 5,
   "id": "78bba37b",
   "metadata": {},
   "outputs": [],
   "source": [
    "# STEP 2b\n",
    "# perform grid search to obtain values of sigma based on perplexity (used to get similarities)\n",
    "def search_sigma(distances, curr, perplexity):\n",
    "    \"\"\"\n",
    "    Obtain σ's based on user's perplexity value.\n",
    "\n",
    "    Parameters:\n",
    "        distances (np.ndarray): Array containing the pairwise distances between data points.\n",
    "        curr (int): Index of current data point.\n",
    "        perplexity (int): User-specified perplexity value.\n",
    "\n",
    "    Returns:\n",
    "        sig (float): The value of σ that satisfies the perplexity condition.\n",
    "    \"\"\"\n",
    "    # initialize result as infinity\n",
    "    result = np.inf\n",
    "    \n",
    "    norm = np.linalg.norm(distances, axis=1)\n",
    "    std_norm = np.std(norm)  # Use standard deviation of norms to define search space\n",
    "\n",
    "    for search in np.linspace(0.01 * std_norm, 5 * std_norm, 200):\n",
    "        # numerator\n",
    "        num = np.exp(-(norm**2) / (2 * search**2))\n",
    "\n",
    "        # Set p = 0 when i = j\n",
    "        num[curr] = 0\n",
    "\n",
    "        # equation 1 (ε -> 0)\n",
    "        eps = np.nextafter(0, 1)\n",
    "        p_new = np.maximum(num / np.sum(num), eps)\n",
    "\n",
    "        # Shannon Entropy\n",
    "        H = -np.sum(p_new * np.log2(p_new))\n",
    "\n",
    "        # Get log(perplexity equation) as close as possible to equality\n",
    "        if np.abs(np.log(perplexity) - H * np.log(2)) < np.abs(result):\n",
    "            result = np.log(perplexity) - H * np.log(2)\n",
    "            sig = search\n",
    "\n",
    "    return sig"
   ]
  },
  {
   "cell_type": "code",
   "execution_count": 16,
   "id": "693847c1",
   "metadata": {},
   "outputs": [],
   "source": [
    "# STEP 2a\n",
    "# compute affinities matrix for X in the original (high-dimensional) space\n",
    "def get_highdim_affinities(X, perplexity):\n",
    "    \"\"\"\n",
    "    Function to obtain similarities matrix in original high-dimensional space.\n",
    "\n",
    "    Parameters:\n",
    "    X (??): Input dataset\n",
    "    perplexity (int): Perplexity of the joint probability distribution\n",
    "\n",
    "    Returns:\n",
    "    P (np.ndarray of shape (number of samples * (num samples - 1) / 2)): Joint probabilities  matrix.\n",
    "    \"\"\" \n",
    "    n = len(X)\n",
    "    P = np.zeros((n, n))\n",
    "    \n",
    "    for i in range(0, n):\n",
    "        # equation 1 numerator\n",
    "        difference = X[i] - X\n",
    "        sig_i = search_sigma(difference, i, perplexity) # call search function to get sigma\n",
    "        norm = np.linalg.norm(difference, axis=1)\n",
    "        P[i, :] = np.exp(-(norm**2) / (2 * sig_i**2))\n",
    "\n",
    "        # Set p = 0 when j = i\n",
    "        np.fill_diagonal(P, 0)\n",
    "\n",
    "        # compute equation 1\n",
    "        P[i, :] = P[i, :] / np.sum(P[i, :])\n",
    "\n",
    "    # Set 0 values to minimum numpy value (ε approx. = 0)\n",
    "    eps = np.nextafter(0, 1)\n",
    "    P = np.maximum(P, eps)\n",
    "\n",
    "#     print(\"Completed Pairwise Affinities Matrix. \\n\")\n",
    "\n",
    "    return P"
   ]
  },
  {
   "cell_type": "code",
   "execution_count": 6,
   "id": "c2b19099",
   "metadata": {},
   "outputs": [],
   "source": [
    "# STEP 2c\n",
    "# convert original affinities matrix into joint probabilities (symmetric) affinities matrix\n",
    "def convert_to_jointprob(P):\n",
    "    \"\"\"\n",
    "    Obtain symmetric affinities matrix from original affinities matrix to be utilized in t-SNE.\n",
    "\n",
    "    Parameters:\n",
    "    P (np.ndarray): Input (original) affinity matrix.\n",
    "\n",
    "    Returns:\n",
    "    P_symmetric (np.ndarray): Symmetric affinities matrix.\n",
    "\n",
    "    \"\"\"\n",
    "    n = len(P)\n",
    "    P_symmetric = np.zeros(shape=(n, n))\n",
    "    for i in range(0, n):\n",
    "        for j in range(0, n):\n",
    "            P_symmetric[i, j] = (P[i, j] + P[j, i]) / (2 * n)\n",
    "\n",
    "    # Set 0 values to minimum numpy value (ε approx. = 0)\n",
    "    eps = np.nextafter(0, 1)\n",
    "    P_symmetric = np.maximum(P_symmetric, eps)\n",
    "\n",
    "    return P_symmetric"
   ]
  },
  {
   "cell_type": "code",
   "execution_count": 7,
   "id": "f8e222aa",
   "metadata": {},
   "outputs": [],
   "source": [
    "# STEP 3a\n",
    "# sample initial solution in lower-dimensional space\n",
    "def initialize(X, n_dim: int = 2, initialization: str = \"random\"):\n",
    "    \"\"\"\n",
    "    Create initial solution for t-SNE either randomly or using PCA.\n",
    "\n",
    "    Parameters:\n",
    "        X (np.ndarray): The input data array.\n",
    "        n_dimensions (int): The number of dimensions for the output solution. Default is 2.\n",
    "        initialization (str): The initialization method. Can be 'random' or 'PCA'. Default is 'random'.\n",
    "\n",
    "    Returns:\n",
    "        soln (np.ndarray): The initial solution for t-SNE.\n",
    "\n",
    "    Raises:\n",
    "        ValueError: If the initialization method is neither 'random' nor 'PCA'.\n",
    "    \"\"\"\n",
    "\n",
    "    # sample initial solution \n",
    "    if initialization == \"random\" or initialization != \"PCA\":\n",
    "        soln = np.random.normal(loc=0, scale=1e-4, size=(len(X), n_dim))\n",
    "    elif initialization == \"PCA\":\n",
    "        X_centered = X - X.mean(axis=0)\n",
    "        _, _, Vt = np.linalg.svd(X_centered)\n",
    "        soln = X_centered @ Vt.T[:, :n_dimensions]\n",
    "    else:\n",
    "        raise ValueError(\"Initialization must be 'random' or 'PCA'\")\n",
    "\n",
    "    return soln"
   ]
  },
  {
   "cell_type": "code",
   "execution_count": 8,
   "id": "56042a0a",
   "metadata": {},
   "outputs": [],
   "source": [
    "# STEP 3b\n",
    "# compute affinity matrix in lower-dimensional space\n",
    "# use a Student t-distribution with 1 df\n",
    "def get_lowdim_affinities(Y):\n",
    "    \"\"\"\n",
    "    Obtain low-dimensional affinities.\n",
    "\n",
    "    Parameters:\n",
    "    Y (np.ndarray): Low-dimensional representation of the data points.\n",
    "\n",
    "    Returns:\n",
    "    Q (np.ndarray): The low-dimensional affinities matrix.\n",
    "    \"\"\"\n",
    "\n",
    "    n = len(Y)\n",
    "    Q = np.zeros(shape=(n, n))\n",
    "\n",
    "    for i in range(0, n):\n",
    "        # equation 4 numerator\n",
    "        difference = Y[i] - Y\n",
    "        norm = np.linalg.norm(difference, axis=1)\n",
    "        Q[i, :] = (1 + norm**2) ** (-1)\n",
    "\n",
    "    # Set p = 0 when j = i\n",
    "    np.fill_diagonal(Q, 0)\n",
    "\n",
    "    # equation 4\n",
    "    Q = Q / Q.sum()\n",
    "\n",
    "    # Set 0 values to minimum numpy value (ε approx. = 0)\n",
    "    eps = np.nextafter(0, 1)\n",
    "    Q = np.maximum(Q, eps)\n",
    "\n",
    "    return Q"
   ]
  },
  {
   "cell_type": "code",
   "execution_count": 9,
   "id": "251399cb",
   "metadata": {},
   "outputs": [],
   "source": [
    "# STEP 4\n",
    "# compute gradient of the cost function \n",
    "# cost function = Kullback-Leibler divergence btwn joint prob distrs in \n",
    "# high dimensional space vs low dimensional space\n",
    "def compute_gradient(P, Q, Y):\n",
    "    \"\"\"\n",
    "    Obtain gradient of cost function at current point Y.\n",
    "\n",
    "    Parameters:\n",
    "    P (np.ndarray): The joint probability distribution matrix.\n",
    "    Q (np.ndarray): The Student's t-distribution matrix.\n",
    "    Y (np.ndarray): The current point in the low-dimensional space.\n",
    "\n",
    "    Returns:\n",
    "    gradient (np.ndarray): The gradient of the cost function at the current point Y.\n",
    "    \"\"\"\n",
    "\n",
    "    n = len(P)\n",
    "\n",
    "    # Compute gradient\n",
    "    gradient = np.zeros(shape=(n, Y.shape[1]))\n",
    "    for i in range(0, n):\n",
    "        difference = Y[i] - Y\n",
    "        A = np.array([(P[i, :] - Q[i, :])])\n",
    "        B = np.array([(1 + np.linalg.norm(difference, axis=1)) ** (-1)])\n",
    "        C = difference\n",
    "        gradient[i] = 4 * np.sum((A * B).T * C, axis=0)\n",
    "\n",
    "    return gradient"
   ]
  },
  {
   "cell_type": "code",
   "execution_count": 18,
   "id": "5107363c",
   "metadata": {},
   "outputs": [],
   "source": [
    "# STEP 5: t-SNE\n",
    "# iterate and optimize low-dimensional mapping\n",
    "# use gradient descent with momentum\n",
    "# learning rate controls step size at each iteration\n",
    "# momentum allows optimization algorithm to gain inertia within search space idk what that means\n",
    "# early exaggeration: places more emphasis on modeling the very similar points (high values in p_ij from the original space) in the new space \n",
    "# early on and thus forming “clusters” of highly similar points\n",
    "def diSNE(adata, perplexity, T, learning_rate: int = 200, early_exaggeration: int = 4, n_dim: int = 2):\n",
    "    \"\"\"\n",
    "    t-SNE (t-Distributed Stochastic Neighbor Embedding) algorithm implementation.\n",
    "\n",
    "    Args:\n",
    "        adata (AnnData object): Input AnnData object representing the user's dataset.\n",
    "        perplexity (int, optional): Perplexity parameter. Default is 10.\n",
    "        T (int, optional): Number of iterations for optimization. Default is 1000.\n",
    "        learning_rate (int, optional): Learning rate for updating the low-dimensional embeddings. Default is 200.\n",
    "        early_exaggeration (int, optional): Factor by which the pairwise affinities are exaggerated\n",
    "            during the early iterations of optimization. Default is 4.\n",
    "        n_dim (int, optional): The number of dimensions of the low-dimensional embeddings. Default is 2.\n",
    "\n",
    "    Returns:\n",
    "        adata (AnnData object): Updated AnnData object containing the t-SNE results.\n",
    "\n",
    "    \"\"\"\n",
    "    X = adata.X\n",
    "    n = len(X)\n",
    "\n",
    "    # Get original affinities matrix\n",
    "    P = get_highdim_affinities(X, perplexity)\n",
    "    P_symmetric = convert_to_jointprob(P)\n",
    "\n",
    "    # Initialization\n",
    "    Y = np.zeros(shape=(T, n, n_dim))\n",
    "    Y_minus1 = np.zeros(shape=(n, n_dim))\n",
    "    Y[0] = Y_minus1\n",
    "    Y1 = initialize(X, n_dim)\n",
    "    Y[1] = np.array(Y1)\n",
    "\n",
    "    print(\"Optimizing Low Dimensional Embedding....\")\n",
    "    # Optimization\n",
    "    for t in range(1, T - 1):\n",
    "        # Momentum & Early Exaggeration\n",
    "        if t < 250:\n",
    "            momentum = 0.5\n",
    "            early_exaggeration = early_exaggeration\n",
    "        else:\n",
    "            momentum = 0.8\n",
    "            early_exaggeration = 1\n",
    "\n",
    "        # Get Low Dimensional Affinities\n",
    "        Q = get_lowdim_affinities(Y[t])\n",
    "\n",
    "        # Get Gradient of Cost Function\n",
    "        gradient = compute_gradient(early_exaggeration * P_symmetric, Q, Y[t])\n",
    "\n",
    "        # Update Rule\n",
    "        Y[t + 1] = Y[t] - learning_rate * gradient + momentum * (Y[t] - Y[t - 1])  # Use negative gradient\n",
    "\n",
    "        # Compute current value of cost function (Kullback-Leibler divergence)\n",
    "        if t % 100 == 0:\n",
    "            cost = np.sum(P_symmetric * np.log(P_symmetric / Q))\n",
    "            print(f\"Iteration {t}: Value of Cost Function is {cost}\")\n",
    "\n",
    "    print(\n",
    "        f\"Completed Low Dimensional Embedding: Final Value of Cost Function is {np.sum(P_symmetric * np.log(P_symmetric / Q))}\"\n",
    "    )\n",
    "    soln = Y[-1]\n",
    "\n",
    "#     return soln, Y\n",
    "    adata.obsm['X_tsne'] = soln\n",
    "    return"
   ]
  },
  {
   "cell_type": "code",
   "execution_count": 11,
   "id": "90b82b78",
   "metadata": {},
   "outputs": [],
   "source": [
    "# Generate synthetic data\n",
    "n_samples = 300\n",
    "n_features = 10\n",
    "n_clusters = 3\n",
    "\n",
    "X, y = make_blobs(n_samples=n_samples, n_features=n_features, centers=n_clusters, random_state=42)\n",
    "\n",
    "# Create an AnnData object for example dataset\n",
    "adata = sc.AnnData(X)\n",
    "adata.obs['labels'] = pd.Categorical(y)"
   ]
  },
  {
   "cell_type": "code",
   "execution_count": 12,
   "id": "c6196323",
   "metadata": {},
   "outputs": [],
   "source": [
    "# Use Scanpy to perform clustering\n",
    "# Compute neighborhood graph\n",
    "sc.pp.neighbors(adata, n_neighbors=10, use_rep='X')\n",
    "\n",
    "# Run Leiden clustering\n",
    "sc.tl.leiden(adata, resolution=1.0)"
   ]
  },
  {
   "cell_type": "code",
   "execution_count": 13,
   "id": "c8882706",
   "metadata": {},
   "outputs": [
    {
     "data": {
      "image/png": "[encoded data removed]",
      "text/plain": [
       "<Figure size 432x288 with 1 Axes>"
      ]
     },
     "metadata": {},
     "output_type": "display_data"
    }
   ],
   "source": [
    "# Run t-SNE and plot results using Scanpy for comparison\n",
    "# Run t-SNE\n",
    "sc.tl.tsne(adata)\n",
    "# Plot the t-SNE results\n",
    "sc.pl.tsne(adata, color='leiden', title='Scanpy t-SNE results')"
   ]
  },
  {
   "cell_type": "code",
   "execution_count": 14,
   "id": "0d501711",
   "metadata": {},
   "outputs": [],
   "source": [
    "# plot t-SNE results \n",
    "def plot_tsne_results(adata, feature, title='diSNE results', figsize=(10, 8)):\n",
    "    tsne_out = adata.obsm['X_tsne']\n",
    "    labels = adata.obs[feature].astype(int).values\n",
    "    plt.figure(figsize=figsize)\n",
    "    scatter = plt.scatter(tsne_out[:, 0], tsne_out[:, 1], c=labels, cmap='viridis', marker='o')\n",
    "    if labels is not None:\n",
    "        plt.legend(*scatter.legend_elements(), title=\"Clusters\")\n",
    "    plt.title(title)\n",
    "    plt.xlabel('t-SNE 1')\n",
    "    plt.ylabel('t-SNE 2')\n",
    "#     plt.colorbar()\n",
    "    plt.show()"
   ]
  },
  {
   "cell_type": "code",
   "execution_count": 19,
   "id": "b0f7a9e6",
   "metadata": {
    "scrolled": false
   },
   "outputs": [
    {
     "name": "stderr",
     "output_type": "stream",
     "text": [
      "/tmp/ipykernel_178/462108980.py:30: RuntimeWarning: invalid value encountered in true_divide\n",
      "  p_new = np.maximum(num / np.sum(num), eps)\n"
     ]
    },
    {
     "name": "stdout",
     "output_type": "stream",
     "text": [
      "Optimizing Low Dimensional Embedding....\n",
      "Iteration 100: Value of Cost Function is 3.0643659140926123\n",
      "Iteration 200: Value of Cost Function is 2.1906289794514957\n",
      "Iteration 300: Value of Cost Function is 1.5676915090394523\n",
      "Iteration 400: Value of Cost Function is 1.2712557313354271\n",
      "Iteration 500: Value of Cost Function is 1.1581809353054633\n",
      "Iteration 600: Value of Cost Function is 1.0953840866636613\n",
      "Iteration 700: Value of Cost Function is 1.055557992122642\n",
      "Iteration 800: Value of Cost Function is 1.0296540642542154\n",
      "Iteration 900: Value of Cost Function is 1.0111875313535033\n",
      "Completed Low Dimensional Embedding: Final Value of Cost Function is 0.9979060999252164\n"
     ]
    }
   ],
   "source": [
    "diSNE(adata, 10, 1000, 4, 2)"
   ]
  },
  {
   "cell_type": "code",
   "execution_count": 20,
   "id": "c4139394",
   "metadata": {
    "scrolled": true
   },
   "outputs": [
    {
     "data": {
      "image/png": "[encoded data removed]",
      "text/plain": [
       "<Figure size 720x576 with 1 Axes>"
      ]
     },
     "metadata": {
      "needs_background": "light"
     },
     "output_type": "display_data"
    }
   ],
   "source": [
    "# Extract t-SNE results and cluster labels\n",
    "tsne_out = adata.obsm['X_tsne']\n",
    "clusters = adata.obs['leiden'].astype(int).values  # Cluster labels\n",
    "\n",
    "# Plot the t-SNE results\n",
    "plot_tsne_results(adata, feature='leiden')"
   ]
  },
  {
   "cell_type": "code",
   "execution_count": null,
   "id": "8221793e",
   "metadata": {},
   "outputs": [],
   "source": []
  }
 ],
 "metadata": {
  "kernelspec": {
   "display_name": "Python 3 (clean)",
   "language": "python",
   "name": "python3_clean"
  },
  "language_info": {
   "codemirror_mode": {
    "name": "ipython",
    "version": 3
   },
   "file_extension": ".py",
   "mimetype": "text/x-python",
   "name": "python",
   "nbconvert_exporter": "python",
   "pygments_lexer": "ipython3",
   "version": "3.9.5"
  }
 },
 "nbformat": 4,
 "nbformat_minor": 5
}
