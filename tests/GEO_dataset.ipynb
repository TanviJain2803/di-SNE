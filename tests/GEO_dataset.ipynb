{
 "cells": [
  {
   "cell_type": "markdown",
   "id": "8fa58f37",
   "metadata": {},
   "source": [
    "notebook to preprocess **[GEO dataset](https://www.ncbi.nlm.nih.gov/geo/query/acc.cgi?acc=GSE167880)**, \n",
    "\"Functional, metabolic and transcriptional maturation of human pancreatic islets derived from stem cells\""
   ]
  },
  {
   "cell_type": "markdown",
   "id": "dee47897",
   "metadata": {},
   "source": [
    "datasets: \n",
    "- stage 5 in vitro?\n",
    "- month 1 in vivo?\n",
    "- month 6 in vivo?"
   ]
  },
  {
   "cell_type": "code",
   "execution_count": 1,
   "id": "0b5050e0",
   "metadata": {},
   "outputs": [],
   "source": [
    "import sys\n",
    "import os\n",
    "sys.path.append(os.environ[\"HOME\"]+\"/.local/lib/python3.9/site-packages\")\n",
    "import scanpy as sc, anndata as ad\n",
    "import harmonypy\n",
    "import leidenalg\n",
    "# diSNE packages\n",
    "import numpy as np\n",
    "import pandas as pd\n",
    "from scipy.sparse import issparse\n",
    "import matplotlib.pyplot as plt\n",
    "import seaborn as sns\n",
    "import hdf5plugin\n",
    "from scipy.spatial.distance import pdist, squareform"
   ]
  },
  {
   "cell_type": "code",
   "execution_count": 10,
   "id": "24ad6f0b",
   "metadata": {},
   "outputs": [],
   "source": [
    "# import diSNE\n",
    "import diSNE"
   ]
  },
  {
   "cell_type": "code",
   "execution_count": 11,
   "id": "aec6f1b3",
   "metadata": {},
   "outputs": [],
   "source": [
    "%%bash\n",
    "export PATH=$PATH:/home/$USER/.local/bin"
   ]
  },
  {
   "cell_type": "code",
   "execution_count": 16,
   "id": "20cbd57c",
   "metadata": {},
   "outputs": [
    {
     "ename": "TypeError",
     "evalue": "bad operand type for unary -: '_Helper'",
     "output_type": "error",
     "traceback": [
      "\u001b[0;31m---------------------------------------------------------------------------\u001b[0m",
      "\u001b[0;31mTypeError\u001b[0m                                 Traceback (most recent call last)",
      "\u001b[0;32m/tmp/ipykernel_261/1638904201.py\u001b[0m in \u001b[0;36m<module>\u001b[0;34m\u001b[0m\n\u001b[0;32m----> 1\u001b[0;31m \u001b[0mdiSNE\u001b[0m \u001b[0;34m-\u001b[0m\u001b[0;34m-\u001b[0m\u001b[0mhelp\u001b[0m\u001b[0;34m\u001b[0m\u001b[0;34m\u001b[0m\u001b[0m\n\u001b[0m",
      "\u001b[0;31mTypeError\u001b[0m: bad operand type for unary -: '_Helper'"
     ]
    }
   ],
   "source": [
    "# concatenate all three datasets into single anndata object\n",
    "dsets = [\"GSM5114461_S6_A11\", \"GSM5114464_S7_D20\", \"GSM5114474_M3_E7\"]\n",
    "adatas = {}\n",
    "for ds in dsets:\n",
    "    print(ds)\n",
    "    adatas[ds] = sc.read_10x_mtx(DATADIR, prefix=ds+\"_\", cache=True)\n",
    "combined = ad.concat(adatas, label=\"dataset\")\n",
    "combined.obs_names_make_unique()"
   ]
  },
  {
   "cell_type": "code",
   "execution_count": null,
   "id": "0bce9e54",
   "metadata": {},
   "outputs": [],
   "source": [
    "# filter low expression/counts\n",
    "# filter cells that have less than 200 genes expressed\n",
    "sc.pp.filter_cells(combined, min_genes=200)\n",
    "# filter cells with less than 1000 total reads \n",
    "sc.pp.filter_cells(combined, min_counts=1000)\n",
    "# filter genes that are detected in less than 5 cells\n",
    "sc.pp.filter_genes(combined, min_cells=5)\n",
    "# genes that have a total count of less than 15\n",
    "sc.pp.filter_genes(combined, min_counts=15)"
   ]
  },
  {
   "cell_type": "code",
   "execution_count": null,
   "id": "5affddb4",
   "metadata": {},
   "outputs": [],
   "source": [
    "# filter high mitochondria\n",
    "# compute percent of counts in each cell that are from mitochondrial genes\n",
    "# annotate the group of mitochondrial genes as \"mt\"\n",
    "combined.var[\"mt\"] = combined.var_names.str.startswith(\"MT-\")\n",
    "sc.pp.calculate_qc_metrics(\n",
    "    combined, qc_vars=[\"mt\"], percent_top=None, log1p=False, inplace=True\n",
    ")"
   ]
  },
  {
   "cell_type": "code",
   "execution_count": null,
   "id": "0d6a2451",
   "metadata": {},
   "outputs": [],
   "source": [
    "# filter cells with high percentage of counts from mitochondrial genes\n",
    "# 25% as threshold\n",
    "# idk what threshold1 is supposed to be\n",
    "adata_filt = combined[combined.obs.n_genes_by_counts<2500, :]\n",
    "adata_filt = adata_filt[adata_filt.obs.pct_counts_mt<25, :].copy() "
   ]
  },
  {
   "cell_type": "code",
   "execution_count": null,
   "id": "ae62eeb9",
   "metadata": {},
   "outputs": [],
   "source": [
    "# normalize counts\n",
    "# total-count normalize data matrix to 10,000 reads per cell\n",
    "sc.pp.normalize_per_cell(adata_filt, counts_per_cell_after=1e4)"
   ]
  },
  {
   "cell_type": "code",
   "execution_count": null,
   "id": "82f4d95e",
   "metadata": {},
   "outputs": [],
   "source": [
    "# log transform data\n",
    "sc.pp.log1p(adata_filt)"
   ]
  },
  {
   "cell_type": "code",
   "execution_count": null,
   "id": "5dccc222",
   "metadata": {},
   "outputs": [],
   "source": [
    "# identify highly variable genes\n",
    "# options: \n",
    "# batch_key=\"dataset\" <- select highly variable genes separately within the 3 datasets\n",
    "# n_top_genes=500 <- select only the top 500 most variable genes\n",
    "sc.pp.highly_variable_genes(adata_filt, batch_key=\"dataset\", n_top_genes=500)"
   ]
  },
  {
   "cell_type": "code",
   "execution_count": null,
   "id": "9cc14233",
   "metadata": {},
   "outputs": [],
   "source": [
    "# create new AnnData object for analyses with:\n",
    "# only highly variable genes\n",
    "# genes with specific marker genes from paper (manually add back even if not most differentially expressed)\n",
    "genes = [\"GCG\", \"TTR\",  \"IAPP\",  \"GHRL\", \"PPY\", \"COL3A1\",\n",
    "    \"CPA1\", \"CLPS\", \"REG1A\", \"CTRB1\", \"CTRB2\", \"PRSS2\", \"CPA2\", \"KRT19\", \"INS\",\"SST\",\"CELA3A\", \"VTCN1\"]\n",
    "\n",
    "adata_var = adata_filt[:, (adata_filt.var.index.isin(genes) | adata_filt.var[\"highly_variable\"])]"
   ]
  },
  {
   "cell_type": "code",
   "execution_count": null,
   "id": "97e77001",
   "metadata": {},
   "outputs": [],
   "source": [
    "# visualize batch effects\n",
    "# perform PCA on dataset and plot data along the first 2 PCs\n",
    "# compute first 20 PCs\n",
    "sc.pp.pca(adata_var, n_comps=20)"
   ]
  },
  {
   "cell_type": "code",
   "execution_count": null,
   "id": "e964659d",
   "metadata": {},
   "outputs": [],
   "source": [
    "# plot data, color cells based on dataset they came from\n",
    "sc.pl.pca(adata_var, color=\"dataset\")"
   ]
  },
  {
   "cell_type": "code",
   "execution_count": null,
   "id": "14a7d015",
   "metadata": {},
   "outputs": [],
   "source": [
    "# adjust count data to control for batch effects\n",
    "# use Harmony from within scanpy\n",
    "# Import the \"external\" library\n",
    "import scanpy.external as sce\n",
    "\n",
    "# Run harmony using suggested params from the paper\n",
    "sce.pp.harmony_integrate(adata_var, 'dataset', theta=2, nclust=50,  max_iter_harmony = 10,  max_iter_kmeans=10)\n",
    "\n",
    "# Reset the original PCs to those computed by Harmony\n",
    "adata_var.obsm['X_pca'] = adata_var.obsm['X_pca_harmony']"
   ]
  },
  {
   "cell_type": "code",
   "execution_count": null,
   "id": "5263e341",
   "metadata": {},
   "outputs": [],
   "source": [
    "# identify individual cell types/visualize results\n",
    "# perform clustering using scanpy\n",
    "# computes neighborhood graphs. Needed to run clustering.\n",
    "sc.pp.neighbors(adata_var) "
   ]
  },
  {
   "cell_type": "code",
   "execution_count": null,
   "id": "617bcf10",
   "metadata": {},
   "outputs": [],
   "source": [
    "# clusters cells based on expression profiles. This is needed to color cells by cluster.\n",
    "sc.tl.leiden(adata_var) "
   ]
  },
  {
   "cell_type": "code",
   "execution_count": null,
   "id": "d3bdbdc8",
   "metadata": {},
   "outputs": [],
   "source": [
    "# SCANPY t-SNE VISUALIZATION\n",
    "# visualize using tSNE\n",
    "# can change color to color cells by different attributes\n",
    "# \"leiden\" = by cluster assignment\n",
    "sc.tl.tsne(adata_var)\n",
    "sc.pl.tsne(adata_var, color=['leiden'], legend_loc='on data', legend_fontsize=10, alpha=0.8, size=20)"
   ]
  }
 ],
 "metadata": {
  "kernelspec": {
   "display_name": "Python 3 (clean)",
   "language": "python",
   "name": "python3_clean"
  },
  "language_info": {
   "codemirror_mode": {
    "name": "ipython",
    "version": 3
   },
   "file_extension": ".py",
   "mimetype": "text/x-python",
   "name": "python",
   "nbconvert_exporter": "python",
   "pygments_lexer": "ipython3",
   "version": "3.9.5"
  }
 },
 "nbformat": 4,
 "nbformat_minor": 5
}
